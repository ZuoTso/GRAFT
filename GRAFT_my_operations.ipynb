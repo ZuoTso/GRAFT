{
  "cells": [
    {
      "cell_type": "markdown",
      "metadata": {
        "id": "MpW-T4IJUCQP"
      },
      "source": [
        "# GRAFT - Graph Reduction via Adaptive Feature & sample Trimming\n",
        "\n",
        "- GRAPE\n",
        "- LUNAR\n",
        "- T2G-FORMER"
      ]
    },
    {
      "cell_type": "markdown",
      "metadata": {
        "id": "uJLikJ-hVFaD"
      },
      "source": [
        "## Requirements and Environment"
      ]
    },
    {
      "cell_type": "markdown",
      "metadata": {
        "id": "Y8S19KTZchcJ"
      },
      "source": [
        "### PyTorch Geometric"
      ]
    },
    {
      "cell_type": "code",
      "execution_count": null,
      "metadata": {
        "colab": {
          "base_uri": "https://localhost:8080/"
        },
        "id": "fR6RIJeuVHx6",
        "outputId": "9f78ff66-0d29-4b71-b6c0-48cdd5e5c29b"
      },
      "outputs": [
        {
          "name": "stdout",
          "output_type": "stream",
          "text": [
            "偵測到 torch=2.8.0, cuda=12.6\n",
            "對應的輪子索引： https://data.pyg.org/whl/torch-2.8.0+cu126.html\n",
            "✅ PyTorch Geometric 安裝完成。若出現 404/找不到輪子，請看下方『失敗時的固定版本方案』。\n"
          ]
        }
      ],
      "source": [
        "import sys, subprocess\n",
        "import torch\n",
        "\n",
        "torch_ver = torch.__version__.split('+')[0]      # 例如 '2.4.0'\n",
        "cuda_ver = torch.version.cuda                    # 例如 '12.1'；CPU 環境則為 None\n",
        "suffix = 'cpu' if not cuda_ver else f\"cu{cuda_ver.replace('.', '')}\"\n",
        "wheel_idx = f\"https://data.pyg.org/whl/torch-{torch_ver}+{suffix}.html\"\n",
        "\n",
        "print(f\"偵測到 torch={torch_ver}, cuda={cuda_ver or 'CPU'}\")\n",
        "print(\"對應的輪子索引：\", wheel_idx)\n",
        "\n",
        "# 安裝 PyG 所需的二進位延伸套件\n",
        "pkgs = [\"pyg-lib\", \"torch-scatter\", \"torch-sparse\", \"torch-cluster\", \"torch-spline-conv\"]\n",
        "subprocess.check_call([sys.executable, \"-m\", \"pip\", \"install\", \"-q\", *pkgs, \"-f\", wheel_idx])\n",
        "# 安裝主套件\n",
        "subprocess.check_call([sys.executable, \"-m\", \"pip\", \"install\", \"-q\", \"torch_geometric\"])\n",
        "\n",
        "print(\"✅ PyTorch Geometric 安裝完成。若出現 404/找不到輪子，請看下方『失敗時的固定版本方案』。\")\n"
      ]
    },
    {
      "cell_type": "markdown",
      "metadata": {
        "id": "hQsBXMEGe2YM"
      },
      "source": [
        "### My version\n"
      ]
    },
    {
      "cell_type": "code",
      "execution_count": null,
      "metadata": {
        "colab": {
          "base_uri": "https://localhost:8080/"
        },
        "id": "WIxQJJvse5oL",
        "outputId": "2fa6453b-870c-41a9-be79-0cbb6bd6dab9"
      },
      "outputs": [
        {
          "name": "stderr",
          "output_type": "stream",
          "text": [
            "/tmp/ipython-input-2820451362.py:101: DeprecationWarning: datetime.datetime.utcnow() is deprecated and scheduled for removal in a future version. Use timezone-aware objects to represent datetimes in UTC: datetime.datetime.now(datetime.UTC).\n",
            "  now_utc  = datetime.utcnow().isoformat(timespec=\"seconds\") + \"Z\"\n"
          ]
        },
        {
          "name": "stdout",
          "output_type": "stream",
          "text": [
            "Written:\n",
            " - /content/GRAFT/ENVIRONMENT_MIN.md\n",
            " - /content/GRAFT/environment-min.json\n",
            " - /content/GRAFT/requirements-core.txt\n"
          ]
        }
      ],
      "source": [
        "# ==== Colab 環境快照（精簡版）====\n",
        "# 產出：\n",
        "#  - ENVIRONMENT_MIN.md\n",
        "#  - environment-min.json\n",
        "#  - requirements-core.txt   # 只含核心套件的釘選清單\n",
        "import os, sys, json, platform, subprocess\n",
        "from datetime import datetime\n",
        "try:\n",
        "    from importlib import metadata as importlib_metadata  # py3.8+\n",
        "except Exception:\n",
        "    import importlib_metadata                          # type: ignore\n",
        "try:\n",
        "    from zoneinfo import ZoneInfo\n",
        "except Exception:\n",
        "    ZoneInfo = None\n",
        "\n",
        "PROJECT_ROOT = \"/content/GRAFT\"  # 視你的專案根目錄調整\n",
        "os.makedirs(PROJECT_ROOT, exist_ok=True)\n",
        "\n",
        "# --- 小工具 ---\n",
        "def sh(cmd: str):\n",
        "    try:\n",
        "        return subprocess.check_output(cmd, shell=True, stderr=subprocess.STDOUT, text=True).strip()\n",
        "    except subprocess.CalledProcessError as e:\n",
        "        return f\"ERR: {e.output.strip()}\"\n",
        "\n",
        "def nvidia_smi():\n",
        "    q = \"nvidia-smi --query-gpu=name,driver_version,memory.total --format=csv,noheader,nounits\"\n",
        "    out = sh(q)\n",
        "    return None if (not out or out.startswith(\"ERR:\")) else out\n",
        "\n",
        "def cuda_toolkit_version():\n",
        "    v = sh(\"nvcc --version | tail -n1\")\n",
        "    if v and not v.startswith(\"ERR:\"):\n",
        "        return v\n",
        "    vjson = \"/usr/local/cuda/version.json\"\n",
        "    if os.path.exists(vjson):\n",
        "        try:\n",
        "            with open(vjson, \"r\") as f:\n",
        "                j = json.load(f)\n",
        "            return f\"CUDA Toolkit (version.json): {j.get('cuda',{}).get('version','unknown')}\"\n",
        "        except Exception:\n",
        "            pass\n",
        "    vtxt = \"/usr/local/cuda/version.txt\"\n",
        "    if os.path.exists(vtxt):\n",
        "        try:\n",
        "            return \"CUDA Toolkit: \" + open(vtxt).read().strip()\n",
        "        except Exception:\n",
        "            pass\n",
        "    return None\n",
        "\n",
        "def git_info(path: str):\n",
        "    if not os.path.isdir(path):\n",
        "        return None\n",
        "    head   = sh(f'git -C \"{path}\" rev-parse HEAD')\n",
        "    remote = sh(f'git -C \"{path}\" remote get-url origin')\n",
        "    branch = sh(f'git -C \"{path}\" rev-parse --abbrev-ref HEAD')\n",
        "    if head.startswith(\"ERR:\"):\n",
        "        return None\n",
        "    return {\"path\": path, \"remote\": remote, \"branch\": branch, \"commit\": head}\n",
        "\n",
        "def dist_version(dist_name: str):\n",
        "    try:\n",
        "        return importlib_metadata.version(dist_name)\n",
        "    except Exception:\n",
        "        return None\n",
        "\n",
        "# --- 只蒐集「核心」套件 ---\n",
        "# key: (顯示名, import/dist 名稱 for pip 安裝)\n",
        "CORE_DISTS = {\n",
        "    # PyTorch & 友軍\n",
        "    \"torch\":                 (\"torch\", \"torch\"),\n",
        "    \"torchvision\":           (\"torchvision\", \"torchvision\"),\n",
        "    \"torchaudio\":            (\"torchaudio\", \"torchaudio\"),\n",
        "    # PyG 家族（注意 dist 名稱是 dash）\n",
        "    \"torch_geometric\":       (\"torch-geometric\", \"torch-geometric\"),\n",
        "    \"torch_scatter\":         (\"torch-scatter\", \"torch-scatter\"),\n",
        "    \"torch_sparse\":          (\"torch-sparse\", \"torch-sparse\"),\n",
        "    \"torch_cluster\":         (\"torch-cluster\", \"torch-cluster\"),\n",
        "    \"torch_spline_conv\":     (\"torch-spline-conv\", \"torch-spline-conv\"),\n",
        "    # 科學運算\n",
        "    \"numpy\":                 (\"numpy\", \"numpy\"),\n",
        "    \"pandas\":                (\"pandas\", \"pandas\"),\n",
        "    \"scipy\":                 (\"scipy\", \"scipy\"),\n",
        "    \"scikit-learn\":          (\"scikit-learn\", \"scikit-learn\"),  # import 為 sklearn\n",
        "    # 其他常用\n",
        "    \"networkx\":              (\"networkx\", \"networkx\"),\n",
        "    \"tqdm\":                  (\"tqdm\", \"tqdm\"),\n",
        "    \"pyyaml\":                (\"PyYAML\", \"PyYAML\"),              # import 為 yaml\n",
        "    \"hydra-core\":            (\"hydra-core\", \"hydra-core\"),      # import 為 hydra\n",
        "    \"einops\":                (\"einops\", \"einops\"),\n",
        "    \"matplotlib\":            (\"matplotlib\", \"matplotlib\"),\n",
        "}\n",
        "\n",
        "# --- 版本資訊（精簡）---\n",
        "py_ver   = sys.version.split()[0]\n",
        "pip_ver  = sh(\"pip --version\")\n",
        "os_name  = sh(\"sed -n 's/^PRETTY_NAME=//p' /etc/os-release | tr -d '\\\"'\")\n",
        "uname    = platform.uname()\n",
        "tz       = \"Asia/Taipei\"\n",
        "now_utc  = datetime.utcnow().isoformat(timespec=\"seconds\") + \"Z\"\n",
        "now_loc  = (datetime.now(ZoneInfo(tz)).isoformat(timespec=\"seconds\") if ZoneInfo\n",
        "            else sh(\"TZ=Asia/Taipei date -Iseconds\"))\n",
        "\n",
        "gpu      = nvidia_smi()\n",
        "cuda_tool= cuda_toolkit_version()\n",
        "\n",
        "# Torch CUDA 狀態\n",
        "torch_cuda = None\n",
        "try:\n",
        "    import torch\n",
        "    torch_cuda = {\n",
        "        \"torch.version.cuda\": torch.version.cuda,\n",
        "        \"torch.cuda.is_available\": bool(torch.cuda.is_available()),\n",
        "        \"torch.backends.cudnn.version\": str(torch.backends.cudnn.version()),\n",
        "        \"device_count\": (torch.cuda.device_count() if torch.cuda.is_available() else 0),\n",
        "    }\n",
        "except Exception:\n",
        "    pass\n",
        "\n",
        "# 第三方 repo（只列三個常見）\n",
        "third_party_candidates = [\n",
        "    f\"{PROJECT_ROOT}/third_party/GRAPE\",\n",
        "    f\"{PROJECT_ROOT}/third_party/LUNAR\",\n",
        "    f\"{PROJECT_ROOT}/third_party/t2g-former\",\n",
        "    \"/content/GRAPE\", \"/content/LUNAR\", \"/content/t2g-former\",\n",
        "]\n",
        "git_third_party = {}\n",
        "for p in third_party_candidates:\n",
        "    info = git_info(p)\n",
        "    if info:\n",
        "        git_third_party[os.path.basename(p).lower()] = info\n",
        "\n",
        "# 收集核心套件版本（dist 名稱）\n",
        "core_versions = {}\n",
        "for display_name, dist_name in CORE_DISTS.values():\n",
        "    v = dist_version(dist_name)\n",
        "    if v:\n",
        "        core_versions[display_name] = v\n",
        "\n",
        "# --- 寫 JSON（精簡）---\n",
        "env_min = {\n",
        "    \"timestamp_utc\": now_utc,\n",
        "    \"timestamp_local_Asia_Taipei\": now_loc,\n",
        "    \"python\": py_ver,\n",
        "    \"pip\": pip_ver,\n",
        "    \"os\": os_name,\n",
        "    \"uname\": {\"system\": uname.system, \"release\": uname.release, \"machine\": uname.machine},\n",
        "    \"gpu\": gpu,\n",
        "    \"cuda_toolkit\": cuda_tool,\n",
        "    \"torch_cuda\": torch_cuda,\n",
        "    \"core_packages\": core_versions,          # 僅核心\n",
        "    \"third_party_git\": git_third_party,      # 若有就列\n",
        "}\n",
        "json_path = os.path.join(PROJECT_ROOT, \"environment-min.json\")\n",
        "with open(json_path, \"w\") as f:\n",
        "    json.dump(env_min, f, indent=2, ensure_ascii=False)\n",
        "\n",
        "# --- 寫 requirements-core.txt（僅核心套件的釘選）---\n",
        "req_lines = [f\"{name}=={ver}\" for name, ver in core_versions.items()]\n",
        "req_path = os.path.join(PROJECT_ROOT, \"requirements-core.txt\")\n",
        "with open(req_path, \"w\") as f:\n",
        "    f.write(\"\\n\".join(req_lines) + (\"\\n\" if req_lines else \"\"))\n",
        "\n",
        "# --- 寫 Markdown（精簡）---\n",
        "def md_table(d: dict):\n",
        "    if not d: return \"_N/A_\"\n",
        "    rows = [\"| 套件 | 版本 |\", \"|---|---|\"]\n",
        "    for k in sorted(d.keys()):\n",
        "        rows.append(f\"| {k} | {d[k]} |\")\n",
        "    return \"\\n\".join(rows)\n",
        "\n",
        "md = f\"\"\"# Environment Snapshot — Lite\n",
        "\n",
        "- **Captured (UTC)**: {now_utc}\n",
        "- **Captured (Asia/Taipei)**: {now_loc}\n",
        "- **OS**: {os_name}\n",
        "- **Python**: {py_ver}\n",
        "- **Pip**: {pip_ver.split()[1] if isinstance(pip_ver, str) and pip_ver else 'N/A'}\n",
        "\n",
        "## GPU / CUDA\n",
        "- GPU: {gpu or \"N/A\"}\n",
        "- CUDA Toolkit: {cuda_tool or \"N/A\"}\n",
        "- Torch CUDA: {torch_cuda or \"N/A\"}\n",
        "\n",
        "## Core packages (pinned)\n",
        "{md_table(core_versions)}\n",
        "\n",
        "## Third-party repos\n",
        "\"\"\"  # noqa\n",
        "\n",
        "if git_third_party:\n",
        "    for name, info in git_third_party.items():\n",
        "        md += f\"- **{name}**: {info['remote']} @ `{info['commit']}` (branch: {info['branch']})\\n\"\n",
        "else:\n",
        "    md += \"- N/A\\n\"\n",
        "\n",
        "md += f\"\"\"\n",
        "\n",
        "---\n",
        "\n",
        "- Core requirements: [`requirements-core.txt`](./requirements-core.txt)\n",
        "- Machine-readable snapshot: [`environment-min.json`](./environment-min.json)\n",
        "\"\"\"\n",
        "\n",
        "md_path = os.path.join(PROJECT_ROOT, \"ENVIRONMENT_MIN.md\")\n",
        "with open(md_path, \"w\") as f:\n",
        "    f.write(md)\n",
        "\n",
        "print(\"Written:\")\n",
        "print(\" -\", md_path)\n",
        "print(\" -\", json_path)\n",
        "print(\" -\", req_path)\n"
      ]
    },
    {
      "cell_type": "markdown",
      "metadata": {
        "id": "b6K6ETlyUQPK"
      },
      "source": [
        "## Baseline - GRAPE"
      ]
    },
    {
      "cell_type": "code",
      "execution_count": null,
      "metadata": {
        "colab": {
          "base_uri": "https://localhost:8080/",
          "height": 335
        },
        "id": "vhHMn4XpUPtH",
        "outputId": "3f131ca4-78ff-4c4d-e1dc-778b79edd108"
      },
      "outputs": [],
      "source": [
        "# Load Google Drive\n",
        "from google.colab import drive\n",
        "drive.mount('/content/drive')"
      ]
    },
    {
      "cell_type": "markdown",
      "metadata": {
        "id": "mkBR46TnUlhq"
      },
      "source": [
        "### Sync colab from drive"
      ]
    },
    {
      "cell_type": "code",
      "execution_count": null,
      "metadata": {
        "colab": {
          "base_uri": "https://localhost:8080/"
        },
        "collapsed": true,
        "id": "n1IBCbgOTaJ6",
        "outputId": "559ac379-a59e-4037-a4cc-387d7940ce76"
      },
      "outputs": [
        {
          "name": "stdout",
          "output_type": "stream",
          "text": [
            "W: Skipping acquire of configured file 'main/source/Sources' as repository 'https://r2u.stat.illinois.edu/ubuntu jammy InRelease' does not seem to provide it (sources.list entry misspelt?)\n"
          ]
        }
      ],
      "source": [
        "!apt-get -qq update && apt-get -qq install -y rsync"
      ]
    },
    {
      "cell_type": "markdown",
      "metadata": {
        "id": "4qSyjgYe7rG1"
      },
      "source": [
        "- 請先載入以下至`/contest`\n",
        "  - `pipeline/`\n",
        "  - `GRAPE/`\n",
        "  - `LUNAR/`\n",
        "  - `T2G-FORMER/`"
      ]
    },
    {
      "cell_type": "code",
      "execution_count": null,
      "metadata": {
        "colab": {
          "base_uri": "https://localhost:8080/"
        },
        "collapsed": true,
        "id": "OKAv6VB-Ugfn",
        "outputId": "5e014103-6aff-447c-8f2a-400335ae318a"
      },
      "outputs": [],
      "source": [
        "%%bash\n",
        "\n",
        "REPO_NAME=\"GRAPE\"\n",
        "DRIVE_BASE=\"{path to}/GRAFT/third_party\"\n",
        "REPO_DRIVE=\"${DRIVE_BASE}/${REPO_NAME}\"\n",
        "REPO_RAM=\"/content/${REPO_NAME}\"\n",
        "echo \"REPO_DRIVE=${REPO_DRIVE:-<EMPTY>}\"\n",
        "echo \"REPO_RAM=${REPO_RAM:-<EMPTY>}\"\n",
        "\n",
        "# 防呆：變數不得為空或根目錄\n",
        "for p in \"${REPO_DRIVE:-}\" \"${REPO_RAM:-}\"; do\n",
        "  [ -z \"$p\" ] && { echo \"ERROR: empty path\"; exit 1; }\n",
        "  [ \"$p\" = \"/\" ] && { echo \"ERROR: path is /\"; exit 1; }\n",
        "done\n",
        "\n",
        "# 把 Drive 的原始碼同步到 /content\n",
        "# 排除 .git 與以前跑出的測試/輸出資料夾，讓 RAM 乾淨\n",
        "rsync -a --delete \\\n",
        "  --exclude=\".git/\" \\\n",
        "  --exclude=\"uci/test/\" \\\n",
        "  --exclude=\"mc/test/\" \\\n",
        "  \"$REPO_DRIVE/\" \"$REPO_RAM/\"\n",
        "rsync -a --delete \\\n",
        "  --exclude=\".git/\" \\\n",
        "  --exclude=\"uci/test/\" \\\n",
        "  --exclude=\"mc/test/\" \\\n",
        "  \"{path to}/GRAFT/pipelines\" \"/content\"\n",
        "rsync -a --delete \\\n",
        "  --exclude=\".git/\" \\\n",
        "  \"$DRIVE_BASE/LUNAR\" \"/content\"\n",
        "rsync -a --delete \\\n",
        "  --exclude=\".git/\" \\\n",
        "  --exclude='results/' \\\n",
        "  \"$DRIVE_BASE/T2G-FORMER\" \"/content\"\n",
        "\n",
        "cd \"$REPO_RAM\"\n",
        "ls -la | head"
      ]
    },
    {
      "cell_type": "markdown",
      "metadata": {
        "id": "L-N63YzdU34f"
      },
      "source": [
        "### baseline"
      ]
    },
    {
      "cell_type": "code",
      "execution_count": null,
      "metadata": {
        "colab": {
          "base_uri": "https://localhost:8080/"
        },
        "collapsed": true,
        "id": "ghEFn5-TMl0h",
        "outputId": "7e274715-ed76-42bf-f04a-1142fc6fc2d5"
      },
      "outputs": [
        {
          "name": "stdout",
          "output_type": "stream",
          "text": [
            "\u001b[2K   \u001b[90m━━━━━━━━━━━━━━━━━━━━━━━━━━━━━━━━━━━━━━━━\u001b[0m \u001b[32m31.4/31.4 MB\u001b[0m \u001b[31m71.7 MB/s\u001b[0m eta \u001b[36m0:00:00\u001b[0m\n",
            "\u001b[2K   \u001b[90m━━━━━━━━━━━━━━━━━━━━━━━━━━━━━━━━━━━━━━━━\u001b[0m \u001b[32m85.7/85.7 kB\u001b[0m \u001b[31m6.3 MB/s\u001b[0m eta \u001b[36m0:00:00\u001b[0m\n",
            "\u001b[2K   \u001b[90m━━━━━━━━━━━━━━━━━━━━━━━━━━━━━━━━━━━━━━━━\u001b[0m \u001b[32m242.3/242.3 kB\u001b[0m \u001b[31m7.5 MB/s\u001b[0m eta \u001b[36m0:00:00\u001b[0m\n",
            "\u001b[?25h"
          ]
        }
      ],
      "source": [
        "# LUNAR → GRAPE\n",
        "!pip install -q faiss-cpu     # LUNAR\n",
        "!pip install -q category-encoders # T2G\n",
        "!pip install -q tomli       # T2G\n",
        "!pip install -q tomli-w      # T2G"
      ]
    },
    {
      "cell_type": "code",
      "execution_count": null,
      "metadata": {
        "id": "reMcoPq8Took"
      },
      "outputs": [],
      "source": [
        "!rm -rf /content/GRAPE/uci/test\n",
        "!rm -rf /content/grapt_artifacts\n",
        "!rm -rf /content/logs"
      ]
    },
    {
      "cell_type": "markdown",
      "metadata": {
        "id": "Ji-F9rGWoN-s"
      },
      "source": [
        "- UCI: `concrete, energy, housing, kin8nm, naval, power, protein, wine, yacht`"
      ]
    },
    {
      "cell_type": "markdown",
      "metadata": {
        "id": "pzPMKAeAWaSB"
      },
      "source": [
        "#### Baseline（Only GRAPE)"
      ]
    },
    {
      "cell_type": "code",
      "execution_count": null,
      "metadata": {
        "colab": {
          "base_uri": "https://localhost:8080/"
        },
        "collapsed": true,
        "id": "9lLBK9gY_a3E",
        "outputId": "50f5f322-4363-4f23-8788-b6ce72d1bca6"
      },
      "outputs": [
        {
          "name": "stdout",
          "output_type": "stream",
          "text": [
            "===== SEED = 0 =====\n",
            "===== SEED = 1 =====\n",
            "===== SEED = 2 =====\n"
          ]
        }
      ],
      "source": [
        "%%bash\n",
        "mkdir -p /content/logs\n",
        "sed -i \"s/os.makedirs(log_path)/os.makedirs(log_path, exist_ok=True)/\" /content/GRAPE/train_mdi.py\n",
        "sed -i \"s/os.makedirs(log_path)/os.makedirs(log_path, exist_ok=True)/\" /content/GRAPE/train_y.py\n",
        "\n",
        "for s in 0 1 2; do\n",
        "  echo \"===== SEED = $s =====\"\n",
        "  python pipelines/run_pipeline.py \\\n",
        "    --grape_root /content/GRAPE \\\n",
        "    --dataset protein --seed \"$s\" \\\n",
        "    --artifact_dir /content/grapt_artifacts \\\n",
        "    --modules grape --order grape \\\n",
        "    --auto_prep \\\n",
        "    --grape.task both --grape.inject_artifact_flags \\\n",
        "    > \"/content/logs/run_grape_seed${s}.log\" 2>&1\n",
        "done\n"
      ]
    },
    {
      "cell_type": "markdown",
      "metadata": {
        "id": "SjImvXfzWmxm"
      },
      "source": [
        "#### LUNAR → GRAPE"
      ]
    },
    {
      "cell_type": "code",
      "execution_count": null,
      "metadata": {
        "id": "KoeJ_Mh-wHbw"
      },
      "outputs": [],
      "source": [
        "--lunar.keep 0.70 \\"
      ]
    },
    {
      "cell_type": "code",
      "execution_count": null,
      "metadata": {
        "colab": {
          "base_uri": "https://localhost:8080/"
        },
        "collapsed": true,
        "id": "hXzXeHuwWpTN",
        "outputId": "dc6e4007-8af6-440e-ec5d-0af95be97f19"
      },
      "outputs": [
        {
          "name": "stdout",
          "output_type": "stream",
          "text": [
            "===== SEED = 0 =====\n",
            "===== SEED = 1 =====\n",
            "===== SEED = 2 =====\n"
          ]
        }
      ],
      "source": [
        "%%bash\n",
        "mkdir -p /content/logs\n",
        "sed -i \"s/os.makedirs(log_path)/os.makedirs(log_path, exist_ok=True)/\" /content/GRAPE/train_mdi.py\n",
        "sed -i \"s/os.makedirs(log_path)/os.makedirs(log_path, exist_ok=True)/\" /content/GRAPE/train_y.py\n",
        "\n",
        "for s in 0 1 2; do\n",
        "  echo \"===== SEED = $s =====\"\n",
        "  GRAFT_LUNAR_DIR=/content/LUNAR \\\n",
        "  python pipelines/run_pipeline.py \\\n",
        "    --grape_root /content/GRAPE \\\n",
        "    --dataset protein --seed \"$s\" \\\n",
        "    --artifact_dir /content/grapt_artifacts \\\n",
        "    --modules lunar,grape --order 'lunar>grape' \\\n",
        "    --auto_prep \\\n",
        "    > \"/content/logs/run_luner_grape_seed${s}.log\" 2>&1\n",
        "done\n"
      ]
    },
    {
      "cell_type": "markdown",
      "metadata": {
        "id": "1ugztgiqK1Hf"
      },
      "source": [
        "#### T2G → GRAPE"
      ]
    },
    {
      "cell_type": "code",
      "execution_count": null,
      "metadata": {
        "colab": {
          "base_uri": "https://localhost:8080/"
        },
        "id": "Dq7i0109_9Xa",
        "outputId": "49b75ce3-392e-4b66-880f-72d9eabb9237"
      },
      "outputs": [
        {
          "name": "stdout",
          "output_type": "stream",
          "text": [
            "===== SEED = 0 =====\n",
            "===== SEED = 1 =====\n",
            "===== SEED = 2 =====\n"
          ]
        }
      ],
      "source": [
        "%%bash\n",
        "mkdir -p /content/logs\n",
        "sed -i \"s/os.makedirs(log_path)/os.makedirs(log_path, exist_ok=True)/\" /content/GRAPE/train_mdi.py\n",
        "sed -i \"s/os.makedirs(log_path)/os.makedirs(log_path, exist_ok=True)/\" /content/GRAPE/train_y.py\n",
        "\n",
        "export GRAFT_LUNAR_DIR=/content/LUNAR\n",
        "\n",
        "for s in 0 1 2; do\n",
        "  echo \"===== SEED = $s =====\"\n",
        "  python pipelines/run_pipeline.py \\\n",
        "    --grape_root /content/GRAPE \\\n",
        "    --dataset protein --seed \"$s\" \\\n",
        "    --artifact_dir /content/grapt_artifacts \\\n",
        "    --modules t2gexp,t2g,grape --order 't2gexp>t2g>grape' \\\n",
        "    --auto_prep --mask_op AND \\\n",
        "    --t2gexp.t2g_repo /content/T2G-FORMER \\\n",
        "    --t2gexp.epochs 50 --t2gexp.train_on overlay \\\n",
        "    --t2g.keep_cols_ratio 0.90 \\\n",
        "    > \"/content/logs/run_t2g_grape_seed${s}.log\" 2>&1\n",
        "done\n"
      ]
    },
    {
      "cell_type": "markdown",
      "metadata": {
        "id": "VbVpj5yMKa0L"
      },
      "source": [
        "#### LUNAR → T2G → GRAPE"
      ]
    },
    {
      "cell_type": "code",
      "execution_count": null,
      "metadata": {
        "id": "g_7UxfbPR3Fe"
      },
      "outputs": [],
      "source": [
        "%%bash\n",
        "set -euo pipefail\n",
        "mkdir -p /content/logs\n",
        "\n",
        "# 只需改一次 GRAPE 腳本的小修\n",
        "sed -i \"s/os.makedirs(log_path)/os.makedirs(log_path, exist_ok=True)/\" /content/GRAPE/train_mdi.py\n",
        "sed -i \"s/os.makedirs(log_path)/os.makedirs(log_path, exist_ok=True)/\" /content/GRAPE/train_y.py\n",
        "\n",
        "export GRAFT_LUNAR_DIR=/content/LUNAR\n",
        "\n",
        "for s in 0 1 2; do\n",
        "  echo \"===== SEED = $s =====\"\n",
        "  python pipelines/run_pipeline.py \\\n",
        "    --grape_root /content/GRAPE \\\n",
        "    --dataset protein --seed \"$s\" \\\n",
        "    --artifact_dir /content/grapt_artifacts \\\n",
        "    --modules lunar,t2gexp,t2g,grape --order 'lunar>t2gexp>t2g>grape' \\\n",
        "    --auto_prep --mask_op AND \\\n",
        "    --t2gexp.t2g_repo /content/T2G-FORMER \\\n",
        "    --t2gexp.epochs 50 --t2gexp.train_on overlay \\\n",
        "    --t2g.keep_cols_ratio 0.9 \\\n",
        "    > \"/content/logs/run_lunar_t2g_grape_seed${s}.log\" 2>&1\n",
        "done\n"
      ]
    },
    {
      "cell_type": "markdown",
      "metadata": {
        "id": "o4MYVhiS4vxK"
      },
      "source": [
        "#### T2G → LUNAR → GRAPE"
      ]
    },
    {
      "cell_type": "code",
      "execution_count": null,
      "metadata": {
        "colab": {
          "base_uri": "https://localhost:8080/"
        },
        "id": "_aljmI3n_-C0",
        "outputId": "08934a78-3ece-4c86-af45-fe26c6f18886"
      },
      "outputs": [
        {
          "name": "stdout",
          "output_type": "stream",
          "text": [
            "===== SEED = 0 =====\n",
            "===== SEED = 1 =====\n",
            "===== SEED = 2 =====\n"
          ]
        }
      ],
      "source": [
        "%%bash\n",
        "mkdir -p /content/logs\n",
        "sed -i \"s/os.makedirs(log_path)/os.makedirs(log_path, exist_ok=True)/\" /content/GRAPE/train_mdi.py\n",
        "sed -i \"s/os.makedirs(log_path)/os.makedirs(log_path, exist_ok=True)/\" /content/GRAPE/train_y.py\n",
        "\n",
        "export GRAFT_LUNAR_DIR=/content/LUNAR\n",
        "\n",
        "for s in 0 1 2; do\n",
        "  echo \"===== SEED = $s =====\"\n",
        "  python pipelines/run_pipeline.py \\\n",
        "    --grape_root /content/GRAPE \\\n",
        "    --dataset protein --seed \"$s\" \\\n",
        "    --artifact_dir /content/grapt_artifacts \\\n",
        "    --modules lunar,t2gexp,t2g,grape --order 't2gexp>t2g>lunar>grape' \\\n",
        "    --auto_prep --mask_op AND \\\n",
        "    --t2gexp.t2g_repo /content/T2G-FORMER \\\n",
        "    --t2gexp.epochs 50 --t2gexp.train_on overlay \\\n",
        "    --t2g.keep_cols_ratio 0.9 \\\n",
        "    > \"/content/logs/run_t2g_luner_grape_seed${s}.log\" 2>&1\n",
        "done\n"
      ]
    },
    {
      "cell_type": "markdown",
      "metadata": {
        "id": "rXJbRms85aFT"
      },
      "source": [
        "#### Random Drop → GRAPE"
      ]
    },
    {
      "cell_type": "code",
      "execution_count": null,
      "metadata": {
        "colab": {
          "base_uri": "https://localhost:8080/"
        },
        "id": "Ie3iXjmg_-3t",
        "outputId": "7b37d335-436b-44fd-f973-e3e86b103576"
      },
      "outputs": [
        {
          "name": "stdout",
          "output_type": "stream",
          "text": [
            "===== SEED = 0 =====\n",
            "===== SEED = 1 =====\n",
            "===== SEED = 2 =====\n"
          ]
        }
      ],
      "source": [
        "# 依你的環境調整\n",
        "%%bash\n",
        "mkdir -p /content/logs\n",
        "sed -i \"s/os.makedirs(log_path)/os.makedirs(log_path, exist_ok=True)/\" /content/GRAPE/train_mdi.py\n",
        "sed -i \"s/os.makedirs(log_path)/os.makedirs(log_path, exist_ok=True)/\" /content/GRAPE/train_y.py\n",
        "\n",
        "export GRAFT_LUNAR_DIR=/content/LUNAR\n",
        "\n",
        "for s in 0 1 2; do\n",
        "  echo \"===== SEED = $s =====\"\n",
        "  python pipelines/run_pipeline.py \\\n",
        "    --grape_root /content/GRAPE \\\n",
        "    --dataset protein --seed \"$s\" \\\n",
        "    --artifact_dir /content/grapt_artifacts \\\n",
        "    --modules random,grape --order 'random>grape' \\\n",
        "    --auto_prep \\\n",
        "    --mask_op AND \\\n",
        "    --random.drop_rows 0.0 \\\n",
        "    --random.drop_cols 0.10 \\\n",
        "    --random.seed \"$s\" \\\n",
        "    > \"/content/logs/run_random_grape_seed${s}.log\" 2>&1\n",
        "done\n"
      ]
    },
    {
      "cell_type": "markdown",
      "metadata": {
        "id": "wNNuzYEoklom"
      },
      "source": [
        "#### 評估指標"
      ]
    },
    {
      "cell_type": "code",
      "execution_count": null,
      "metadata": {
        "colab": {
          "base_uri": "https://localhost:8080/"
        },
        "id": "Uqa8lNAc_jZ1",
        "outputId": "e3a469a1-ff7e-4557-fc2b-7f36a76f208b"
      },
      "outputs": [
        {
          "name": "stdout",
          "output_type": "stream",
          "text": [
            "valid_mae(last): None\n",
            "test_mae(last):  0.15573932230472565\n",
            "valid_rmse(last): None\n",
            "test_rmse(last):  0.2481225791808255\n"
          ]
        }
      ],
      "source": [
        "from pathlib import Path\n",
        "import json\n",
        "\n",
        "base = Path(\"/content/grapt_artifacts/baseline/housing/seed0/impute\")\n",
        "mj = base/\"metrics.json\"\n",
        "if mj.exists() and mj.read_text().strip() not in (\"\", \"{}\"):\n",
        "    m = json.loads(mj.read_text())\n",
        "    # 常見鍵：m[\"test\"][\"mae\"], m[\"valid\"][\"mae\"]（實際鍵名依訓練腳本而定）\n",
        "    print(json.dumps(m, indent=2, ensure_ascii=False))\n",
        "else:\n",
        "    # 沒有 metrics.json 或為空：直接解析 result.pkl\n",
        "    import joblib\n",
        "    pkl = joblib.load(base/\"result.pkl\")\n",
        "    curves = pkl.get(\"curves\", {})\n",
        "    def last(a):\n",
        "        return (a or [None])[-1] if isinstance(a, list) else a\n",
        "    print(\"valid_mae(last):\", last(curves.get(\"valid_l1\")))\n",
        "    print(\"test_mae(last): \", last(curves.get(\"test_l1\")))\n",
        "    print(\"valid_rmse(last):\", last(curves.get(\"valid_rmse\")))\n",
        "    print(\"test_rmse(last): \", last(curves.get(\"test_rmse\")))\n"
      ]
    },
    {
      "cell_type": "code",
      "execution_count": null,
      "metadata": {
        "colab": {
          "base_uri": "https://localhost:8080/"
        },
        "id": "KogNtXQN3xek",
        "outputId": "7eef69f2-b868-4f04-e108-97c3eb6d4d2d"
      },
      "outputs": [
        {
          "name": "stdout",
          "output_type": "stream",
          "text": [
            "valid_mae(last): None\n",
            "test_mae(last):  3.235844373703003\n",
            "valid_rmse(last): None\n",
            "test_rmse(last):  4.796092413768343\n"
          ]
        }
      ],
      "source": [
        "from pathlib import Path\n",
        "import json\n",
        "\n",
        "base = Path(\"/content/grapt_artifacts/baseline/housing/seed0/label\")\n",
        "mj = base/\"metrics.json\"\n",
        "if mj.exists() and mj.read_text().strip() not in (\"\", \"{}\"):\n",
        "    m = json.loads(mj.read_text())\n",
        "    # 常見鍵：m[\"test\"][\"mae\"], m[\"valid\"][\"mae\"]（實際鍵名依訓練腳本而定）\n",
        "    print(json.dumps(m, indent=2, ensure_ascii=False))\n",
        "else:\n",
        "    # 沒有 metrics.json 或為空：直接解析 result.pkl\n",
        "    import joblib\n",
        "    pkl = joblib.load(base/\"result.pkl\")\n",
        "    curves = pkl.get(\"curves\", {})\n",
        "    def last(a):\n",
        "        return (a or [None])[-1] if isinstance(a, list) else a\n",
        "    print(\"valid_mae(last):\", last(curves.get(\"valid_l1\")))\n",
        "    print(\"test_mae(last): \", last(curves.get(\"test_l1\")))\n",
        "    print(\"valid_rmse(last):\", last(curves.get(\"valid_rmse\")))\n",
        "    print(\"test_rmse(last): \", last(curves.get(\"test_rmse\")))\n"
      ]
    },
    {
      "cell_type": "markdown",
      "metadata": {
        "id": "Rw1ePJHPFl0G"
      },
      "source": [
        "## Ablation"
      ]
    },
    {
      "cell_type": "markdown",
      "metadata": {
        "id": "5mU9wZcRF62F"
      },
      "source": [
        "#### T2G → LUNAR → GRAPE"
      ]
    },
    {
      "cell_type": "markdown",
      "metadata": {
        "id": "C00JRCZWTKM5"
      },
      "source": [
        "##### 0.95"
      ]
    },
    {
      "cell_type": "code",
      "execution_count": null,
      "metadata": {
        "colab": {
          "base_uri": "https://localhost:8080/"
        },
        "id": "qFumrNenGxWi",
        "outputId": "ca93018f-bf9d-4553-c1af-a9de7d64bfa6"
      },
      "outputs": [
        {
          "name": "stdout",
          "output_type": "stream",
          "text": [
            "===== LUNAR_KEEP = 0.95 =====\n",
            "21M\t/content/grapt_artifacts/baseline\n",
            "✅ 已備份 baseline 到：/content/drive/MyDrive/grapt_artifacts/results\n"
          ]
        }
      ],
      "source": [
        "%%bash\n",
        "mkdir -p /content/logs\n",
        "sed -i \"s/os.makedirs(log_path)/os.makedirs(log_path, exist_ok=True)/\" /content/GRAPE/train_mdi.py\n",
        "sed -i \"s/os.makedirs(log_path)/os.makedirs(log_path, exist_ok=True)/\" /content/GRAPE/train_y.py\n",
        "\n",
        "export GRAFT_LUNAR_DIR=/content/LUNAR\n",
        "\n",
        "echo \"===== LUNAR_KEEP = 0.95 =====\"\n",
        "python pipelines/run_pipeline.py \\\n",
        "  --grape_root /content/GRAPE \\\n",
        "  --dataset wine --seed 0 \\\n",
        "  --artifact_dir /content/grapt_artifacts \\\n",
        "  --modules lunar,t2gexp,t2g,grape --order 't2gexp>t2g>lunar>grape' \\\n",
        "  --auto_prep --mask_op AND \\\n",
        "  --t2gexp.t2g_repo /content/T2G-FORMER \\\n",
        "  --t2gexp.epochs 50 --t2gexp.train_on overlay \\\n",
        "  --t2g.keep_cols_ratio 0.9 \\\n",
        "  --lunar.keep 0.95 \\\n",
        "  > \"/content/logs/run_t2g_luner_grape_keep095.log\" 2>&1\n",
        "\n",
        "# rename\n",
        "set -euo pipefail\n",
        "src=\"/content/grapt_artifacts/baseline/wine/seed0\"\n",
        "dst=\"/content/grapt_artifacts/baseline/wine/keep095\"\n",
        "\n",
        "[ -d \"$src\" ] || { echo \"找不到 $src\"; exit 1; }\n",
        "[ -e \"$dst\" ] && { echo \"目標已存在：$dst\"; exit 1; }\n",
        "\n",
        "mv \"$src\" \"$dst\"\n",
        "\n",
        "# save\n",
        "ART_SRC=\"/content/grapt_artifacts/baseline\"\n",
        "ART_DST=\"/content/drive/MyDrive/grapt_artifacts/results\"\n",
        "\n",
        "# 顯示大小（可選）\n",
        "[ -d \"$ART_SRC\" ] && du -sh \"$ART_SRC\" || echo \"來源資料夾不存在：$ART_SRC\"\n",
        "\n",
        "# 同步（保留時間/權限；顯示進度；不刪除目的端既有檔）\n",
        "if [ -d \"$ART_SRC\" ]; then\n",
        "  rsync -a \"$ART_SRC/\" \"$ART_DST/\"\n",
        "  echo \"✅ 已備份 baseline 到：$ART_DST\"\n",
        "else\n",
        "  echo \"⚠️ 找不到來源資料夾：$ART_SRC\"\n",
        "fi"
      ]
    },
    {
      "cell_type": "markdown",
      "metadata": {
        "id": "I36PPQCjTNtq"
      },
      "source": [
        "##### 0.90"
      ]
    },
    {
      "cell_type": "code",
      "execution_count": null,
      "metadata": {
        "colab": {
          "base_uri": "https://localhost:8080/"
        },
        "id": "HhJE1MVuGBhd",
        "outputId": "92a1f6ad-df2e-49fc-d4fe-2fd9b088aaa6"
      },
      "outputs": [
        {
          "name": "stdout",
          "output_type": "stream",
          "text": [
            "===== LUNAR_KEEP = 0.90 =====\n",
            "23M\t/content/grapt_artifacts/baseline\n",
            "✅ 已備份 baseline 到：/content/drive/MyDrive/grapt_artifacts/results\n"
          ]
        }
      ],
      "source": [
        "%%bash\n",
        "mkdir -p /content/logs\n",
        "sed -i \"s/os.makedirs(log_path)/os.makedirs(log_path, exist_ok=True)/\" /content/GRAPE/train_mdi.py\n",
        "sed -i \"s/os.makedirs(log_path)/os.makedirs(log_path, exist_ok=True)/\" /content/GRAPE/train_y.py\n",
        "\n",
        "export GRAFT_LUNAR_DIR=/content/LUNAR\n",
        "\n",
        "echo \"===== LUNAR_KEEP = 0.90 =====\"\n",
        "python pipelines/run_pipeline.py \\\n",
        "  --grape_root /content/GRAPE \\\n",
        "  --dataset wine --seed 0 \\\n",
        "  --artifact_dir /content/grapt_artifacts \\\n",
        "  --modules lunar,t2gexp,t2g,grape --order 't2gexp>t2g>lunar>grape' \\\n",
        "  --auto_prep --mask_op AND \\\n",
        "  --t2gexp.t2g_repo /content/T2G-FORMER \\\n",
        "  --t2gexp.epochs 50 --t2gexp.train_on overlay \\\n",
        "  --t2g.keep_cols_ratio 0.9 \\\n",
        "  --lunar.keep 0.90 \\\n",
        "  > \"/content/logs/run_t2g_luner_grape_keep090.log\" 2>&1\n",
        "\n",
        "# rename\n",
        "set -euo pipefail\n",
        "src=\"/content/grapt_artifacts/baseline/wine/seed0\"\n",
        "dst=\"/content/grapt_artifacts/baseline/wine/keep090\"\n",
        "\n",
        "[ -d \"$src\" ] || { echo \"找不到 $src\"; exit 1; }\n",
        "[ -e \"$dst\" ] && { echo \"目標已存在：$dst\"; exit 1; }\n",
        "\n",
        "mv \"$src\" \"$dst\"\n",
        "\n",
        "# save\n",
        "ART_SRC=\"/content/grapt_artifacts/baseline\"\n",
        "ART_DST=\"/content/drive/MyDrive/grapt_artifacts/results\"\n",
        "\n",
        "# 顯示大小（可選）\n",
        "[ -d \"$ART_SRC\" ] && du -sh \"$ART_SRC\" || echo \"來源資料夾不存在：$ART_SRC\"\n",
        "\n",
        "# 同步（保留時間/權限；顯示進度；不刪除目的端既有檔）\n",
        "if [ -d \"$ART_SRC\" ]; then\n",
        "  rsync -a \"$ART_SRC/\" \"$ART_DST/\"\n",
        "  echo \"✅ 已備份 baseline 到：$ART_DST\"\n",
        "else\n",
        "  echo \"⚠️ 找不到來源資料夾：$ART_SRC\"\n",
        "fi"
      ]
    },
    {
      "cell_type": "markdown",
      "metadata": {
        "id": "AetDrX68TOsF"
      },
      "source": [
        "##### 0.80"
      ]
    },
    {
      "cell_type": "code",
      "execution_count": null,
      "metadata": {
        "colab": {
          "base_uri": "https://localhost:8080/"
        },
        "id": "XSSsb9FKGsIb",
        "outputId": "2381e362-7e7d-42a2-e219-f66fb4907c60"
      },
      "outputs": [
        {
          "name": "stdout",
          "output_type": "stream",
          "text": [
            "===== LUNAR_KEEP = 0.80 =====\n",
            "16M\t/content/grapt_artifacts/baseline\n",
            "✅ 已備份 baseline 到：/content/drive/MyDrive/grapt_artifacts/results\n"
          ]
        }
      ],
      "source": [
        "%%bash\n",
        "mkdir -p /content/logs\n",
        "sed -i \"s/os.makedirs(log_path)/os.makedirs(log_path, exist_ok=True)/\" /content/GRAPE/train_mdi.py\n",
        "sed -i \"s/os.makedirs(log_path)/os.makedirs(log_path, exist_ok=True)/\" /content/GRAPE/train_y.py\n",
        "\n",
        "export GRAFT_LUNAR_DIR=/content/LUNAR\n",
        "\n",
        "echo \"===== LUNAR_KEEP = 0.80 =====\"\n",
        "python pipelines/run_pipeline.py \\\n",
        "  --grape_root /content/GRAPE \\\n",
        "  --dataset energy --seed 0 \\\n",
        "  --artifact_dir /content/grapt_artifacts \\\n",
        "  --modules lunar,t2gexp,t2g,grape --order 't2gexp>t2g>lunar>grape' \\\n",
        "  --auto_prep --mask_op AND \\\n",
        "  --t2gexp.t2g_repo /content/T2G-FORMER \\\n",
        "  --t2gexp.epochs 50 --t2gexp.train_on overlay \\\n",
        "  --t2g.keep_cols_ratio 0.9 \\\n",
        "  --lunar.keep 0.80 \\\n",
        "  > \"/content/logs/run_t2g_luner_grape_keep080.log\" 2>&1\n",
        "\n",
        "# rename\n",
        "set -euo pipefail\n",
        "src=\"/content/grapt_artifacts/baseline/energy/seed0\"\n",
        "dst=\"/content/grapt_artifacts/baseline/energy/keep080\"\n",
        "\n",
        "[ -d \"$src\" ] || { echo \"找不到 $src\"; exit 1; }\n",
        "[ -e \"$dst\" ] && { echo \"目標已存在：$dst\"; exit 1; }\n",
        "\n",
        "mv \"$src\" \"$dst\"\n",
        "\n",
        "# save\n",
        "ART_SRC=\"/content/grapt_artifacts/baseline\"\n",
        "ART_DST=\"/content/drive/MyDrive/grapt_artifacts/results\"\n",
        "\n",
        "# 顯示大小（可選）\n",
        "[ -d \"$ART_SRC\" ] && du -sh \"$ART_SRC\" || echo \"來源資料夾不存在：$ART_SRC\"\n",
        "\n",
        "# 同步（保留時間/權限；顯示進度；不刪除目的端既有檔）\n",
        "if [ -d \"$ART_SRC\" ]; then\n",
        "  rsync -a \"$ART_SRC/\" \"$ART_DST/\"\n",
        "  echo \"✅ 已備份 baseline 到：$ART_DST\"\n",
        "else\n",
        "  echo \"⚠️ 找不到來源資料夾：$ART_SRC\"\n",
        "fi"
      ]
    },
    {
      "cell_type": "markdown",
      "metadata": {
        "id": "wj21klH3TP-O"
      },
      "source": [
        "##### 0.70"
      ]
    },
    {
      "cell_type": "code",
      "execution_count": null,
      "metadata": {
        "colab": {
          "base_uri": "https://localhost:8080/"
        },
        "id": "UPrVOvqsGr9u",
        "outputId": "9726bdaf-0446-4a8e-cca5-53ba5e5ba313"
      },
      "outputs": [
        {
          "name": "stdout",
          "output_type": "stream",
          "text": [
            "===== LUNAR_KEEP = 0.70 =====\n",
            "25M\t/content/grapt_artifacts/baseline\n",
            "✅ 已備份 baseline 到：/content/drive/MyDrive/grapt_artifacts/results\n"
          ]
        }
      ],
      "source": [
        "%%bash\n",
        "mkdir -p /content/logs\n",
        "sed -i \"s/os.makedirs(log_path)/os.makedirs(log_path, exist_ok=True)/\" /content/GRAPE/train_mdi.py\n",
        "sed -i \"s/os.makedirs(log_path)/os.makedirs(log_path, exist_ok=True)/\" /content/GRAPE/train_y.py\n",
        "\n",
        "export GRAFT_LUNAR_DIR=/content/LUNAR\n",
        "\n",
        "echo \"===== LUNAR_KEEP = 0.70 =====\"\n",
        "python pipelines/run_pipeline.py \\\n",
        "  --grape_root /content/GRAPE \\\n",
        "  --dataset wine --seed 0 \\\n",
        "  --artifact_dir /content/grapt_artifacts \\\n",
        "  --modules lunar,t2gexp,t2g,grape --order 't2gexp>t2g>lunar>grape' \\\n",
        "  --auto_prep --mask_op AND \\\n",
        "  --t2gexp.t2g_repo /content/T2G-FORMER \\\n",
        "  --t2gexp.epochs 50 --t2gexp.train_on overlay \\\n",
        "  --t2g.keep_cols_ratio 0.9 \\\n",
        "  --lunar.keep 0.70 \\\n",
        "  > \"/content/logs/run_t2g_luner_grape_keep070.log\" 2>&1\n",
        "\n",
        "# rename\n",
        "set -euo pipefail\n",
        "src=\"/content/grapt_artifacts/baseline/wine/seed0\"\n",
        "dst=\"/content/grapt_artifacts/baseline/wine/keep070\"\n",
        "\n",
        "[ -d \"$src\" ] || { echo \"找不到 $src\"; exit 1; }\n",
        "[ -e \"$dst\" ] && { echo \"目標已存在：$dst\"; exit 1; }\n",
        "\n",
        "mv \"$src\" \"$dst\"\n",
        "\n",
        "# save\n",
        "ART_SRC=\"/content/grapt_artifacts/baseline\"\n",
        "ART_DST=\"/content/drive/MyDrive/grapt_artifacts/results\"\n",
        "\n",
        "# 顯示大小（可選）\n",
        "[ -d \"$ART_SRC\" ] && du -sh \"$ART_SRC\" || echo \"來源資料夾不存在：$ART_SRC\"\n",
        "\n",
        "# 同步（保留時間/權限；顯示進度；不刪除目的端既有檔）\n",
        "if [ -d \"$ART_SRC\" ]; then\n",
        "  rsync -a \"$ART_SRC/\" \"$ART_DST/\"\n",
        "  echo \"✅ 已備份 baseline 到：$ART_DST\"\n",
        "else\n",
        "  echo \"⚠️ 找不到來源資料夾：$ART_SRC\"\n",
        "fi"
      ]
    },
    {
      "cell_type": "markdown",
      "metadata": {
        "id": "Stjyn7Orkf4z"
      },
      "source": [
        "## save"
      ]
    },
    {
      "cell_type": "code",
      "execution_count": null,
      "metadata": {
        "id": "jS0Jza1XSAKb"
      },
      "outputs": [],
      "source": [
        "%%bash\n",
        "set -euo pipefail\n",
        "src=\"/content/grapt_artifacts/baseline/protein\"\n",
        "dst=\"/content/grapt_artifacts/baseline/protein_t2g_lunar_grape\"\n",
        "\n",
        "[ -d \"$src\" ] || { echo \"找不到 $src\"; exit 1; }\n",
        "[ -e \"$dst\" ] && { echo \"目標已存在：$dst\"; exit 1; }\n",
        "\n",
        "mv \"$src\" \"$dst\"\n"
      ]
    },
    {
      "cell_type": "code",
      "execution_count": null,
      "metadata": {
        "colab": {
          "base_uri": "https://localhost:8080/"
        },
        "id": "ebipb1IaSBmq",
        "outputId": "83aace33-5ed9-47f6-ef0e-a41cda9c62ba"
      },
      "outputs": [
        {
          "name": "stdout",
          "output_type": "stream",
          "text": [
            "29M\t/content/grapt_artifacts/baseline\n",
            "✅ 已備份 baseline 到：/content/drive/MyDrive/grapt_artifacts/results\n"
          ]
        }
      ],
      "source": [
        "%%bash\n",
        "\n",
        "# 路徑設定\n",
        "ART_SRC=\"/content/grapt_artifacts/baseline\"\n",
        "ART_DST=\"/content/drive/MyDrive/grapt_artifacts/results\"\n",
        "\n",
        "# 顯示大小（可選）\n",
        "[ -d \"$ART_SRC\" ] && du -sh \"$ART_SRC\" || echo \"來源資料夾不存在：$ART_SRC\"\n",
        "\n",
        "# 同步（保留時間/權限；顯示進度；不刪除目的端既有檔）\n",
        "if [ -d \"$ART_SRC\" ]; then\n",
        "  rsync -a \"$ART_SRC/\" \"$ART_DST/\"\n",
        "  echo \"✅ 已備份 baseline 到：$ART_DST\"\n",
        "else\n",
        "  echo \"⚠️ 找不到來源資料夾：$ART_SRC\"\n",
        "fi\n"
      ]
    },
    {
      "cell_type": "markdown",
      "metadata": {
        "id": "asSNbdAKjUp5"
      },
      "source": [
        "## more"
      ]
    },
    {
      "cell_type": "code",
      "execution_count": null,
      "metadata": {
        "id": "ZwfRSpINUp1s"
      },
      "outputs": [],
      "source": [
        "!rm -rf /content/GRAPE/pack/test\n",
        "!rm -rf /content/grapt_artifacts\n",
        "!rm -rf /content/logs"
      ]
    },
    {
      "cell_type": "markdown",
      "metadata": {
        "id": "uTO2kF8eQJEh"
      },
      "source": [
        "### OOM 問題前"
      ]
    },
    {
      "cell_type": "code",
      "execution_count": null,
      "metadata": {
        "colab": {
          "base_uri": "https://localhost:8080/"
        },
        "collapsed": true,
        "id": "_Sk5zB6ajUNB",
        "outputId": "19b5eb15-e3c8-44f1-ce01-ab13b26cb643"
      },
      "outputs": [
        {
          "name": "stdout",
          "output_type": "stream",
          "text": [
            "===== SEED = 0 =====\n",
            "\n",
            "[run_cmd] CWD: /content/GRAPE\n",
            "[run_cmd] CMD: python /content/GRAPE/train_y.py --seed 0 --artifact_dir /content/grapt_artifacts --dump_intermediate --prep_only pack --root /content/drive/MyDrive/data-t2g/year/baseline/year_mcar30 --data year_mcar30\n",
            "[child stdout] Namespace(model_types='EGSAGE_EGSAGE', post_hiddens=None, concat_states=False, norm_embs=None, aggr='mean', node_dim=16, edge_dim=16, edge_mode=1, gnn_activation='relu', impute_hiddens='', impute_activation='relu', predict_hiddens='', epochs=20000, opt='adam', opt_scheduler='none', opt_restart=0, opt_decay_step=1000, opt_decay_rate=0.9, dropout=0.0, weight_decay=0.0, lr=0.001, known=0.7, valid=0.0, seed=0, log_dir='y0', artifact_dir='/content/grapt_artifacts', dump_intermediate=True, prep_only=True, root='/content/drive/MyDrive/data-t2g/year/baseline/year_mcar30', data='year_mcar30', domain='pack')\n",
            "[child stdout] GPU mem: 12, Select GPU 0\n",
            "[child stdout] Using GPU 0\n",
            "[child stdout] ['EGSAGE', 'EGSAGE'] [True, True] [16]\n",
            "[child stdout] all y num is 515345, train num is 370972, test num is 51630\n",
            "[child stdout] [prep_only] exported intermediates; exit before training.\n",
            "[OK] prep-only：baseline 中介物已就緒 → /content/grapt_artifacts/baseline/year_mcar30/seed0\n",
            "[OK] Baseline artifacts 準備完成：/content/grapt_artifacts/baseline/year_mcar30/seed0\n",
            " - 檢查是否已有：X_norm.npy / mask.npy / split_idx.json / omega_test_idx.npz / (bipartite_edges.npz?)\n",
            "\n",
            "[run_cmd] CWD: /content/GRAPE\n",
            "[run_cmd] CMD: python /content/GRAPE/train_y.py --seed 0 --artifact_dir /content/grapt_artifacts --dump_intermediate pack --root /content/drive/MyDrive/data-t2g/year/baseline/year_mcar30 --data year_mcar30\n",
            "[child stdout] Namespace(model_types='EGSAGE_EGSAGE', post_hiddens=None, concat_states=False, norm_embs=None, aggr='mean', node_dim=16, edge_dim=16, edge_mode=1, gnn_activation='relu', impute_hiddens='', impute_activation='relu', predict_hiddens='', epochs=20000, opt='adam', opt_scheduler='none', opt_restart=0, opt_decay_step=1000, opt_decay_rate=0.9, dropout=0.0, weight_decay=0.0, lr=0.001, known=0.7, valid=0.0, seed=0, log_dir='y0', artifact_dir='/content/grapt_artifacts', dump_intermediate=True, prep_only=False, root='/content/drive/MyDrive/data-t2g/year/baseline/year_mcar30', data='year_mcar30', domain='pack')\n",
            "[child stdout] GPU mem: 12, Select GPU 0\n",
            "[child stdout] Using GPU 0\n",
            "[child stdout] ['EGSAGE', 'EGSAGE'] [True, True] [16]\n",
            "[child stdout] all y num is 515345, train num is 370972, test num is 51630\n",
            "[child stdout] [overlay] mask_op=AND | total_masks=1 | n_row=515345, n_col=90\n",
            "[child stdout] [overlay] order=grape\n",
            "[child stdout] [overlay:1] stage=baseline op=AND path=/content/grapt_artifacts/baseline/year_mcar30/seed0/mask.npy\n",
            "[child stdout]     current m: ones=23373605 (50.39%) | rows_keep=370972/515345 | cols_keep=90/90\n",
            "[child stdout]     init   M: ones=23373605 (50.39%) | rows_keep=370972/515345 | cols_keep=90/90\n",
            "[child stdout] [overlay:final] rows_kept=370972/515345 | cols_kept=90/90 | ones=23373605\n",
            "[child stdout] [IMPORT] gnn_y: mask_op=AND; edges kept 46747210/46747210; rows kept 370972/515345; order=grape\n",
            "[PREP] Baseline intermediates not found → export via GRAPE (prep-only)…\n",
            "  → /usr/bin/python3 /content/pipelines/run_baseline_grape.py --grape_root /content/GRAPE --dataset year_mcar30 --seed 0 --artifact_dir /content/grapt_artifacts --task y --prep_only --inject_artifact_flags --grape_domain pack --pack_root /content/drive/MyDrive/data-t2g/year/baseline/year_mcar30\n",
            "[INFO] manifest 寫入：/content/grapt_artifacts/baseline/year_mcar30/seed0/variants/fbdbf8c3483b/overlay_manifest.json\n",
            "[RUN ] grape: start @ 2025-09-02 15:47:11\n",
            "  → 呼叫 GRAPE: /usr/bin/python3 /content/pipelines/run_baseline_grape.py --grape_root /content/GRAPE --dataset year_mcar30 --seed 0 --artifact_dir /content/grapt_artifacts --inject_artifact_flags --task y --grape_domain pack --pack_root /content/drive/MyDrive/data-t2g/year/baseline/year_mcar30\n"
          ]
        },
        {
          "name": "stderr",
          "output_type": "stream",
          "text": [
            "[child stderr] Traceback (most recent call last):\n",
            "[child stderr]   File \"/content/GRAPE/train_y.py\", line 91, in <module>\n",
            "[child stderr]     main()\n",
            "[child stderr]   File \"/content/GRAPE/train_y.py\", line 88, in main\n",
            "[child stderr]     train_gnn_y(data, args, log_path, device)\n",
            "[child stderr]   File \"/content/GRAPE/training/gnn_y.py\", line 297, in train_gnn_y\n",
            "[child stderr]     x_embd = model(x, known_edge_attr, known_edge_index)\n",
            "[child stderr]              ^^^^^^^^^^^^^^^^^^^^^^^^^^^^^^^^^^^^^^^^^^^\n",
            "[child stderr]   File \"/usr/local/lib/python3.12/dist-packages/torch/nn/modules/module.py\", line 1773, in _wrapped_call_impl\n",
            "[child stderr]     return self._call_impl(*args, **kwargs)\n",
            "[child stderr]            ^^^^^^^^^^^^^^^^^^^^^^^^^^^^^^^^\n",
            "[child stderr]   File \"/usr/local/lib/python3.12/dist-packages/torch/nn/modules/module.py\", line 1784, in _call_impl\n",
            "[child stderr]     return forward_call(*args, **kwargs)\n",
            "[child stderr]            ^^^^^^^^^^^^^^^^^^^^^^^^^^^^^\n",
            "[child stderr]   File \"/content/GRAPE/models/gnn_model.py\", line 134, in forward\n",
            "[child stderr]     edge_attr = self.update_edge_attr(x, edge_attr, edge_index, self.edge_update_mlps[l])\n",
            "[child stderr]                 ^^^^^^^^^^^^^^^^^^^^^^^^^^^^^^^^^^^^^^^^^^^^^^^^^^^^^^^^^^^^^^^^^^^^^^^^^\n",
            "[child stderr]   File \"/content/GRAPE/models/gnn_model.py\", line 120, in update_edge_attr\n",
            "[child stderr]     edge_attr = mlp(torch.cat((x_i,x_j,edge_attr),dim=-1))\n",
            "[child stderr]                 ^^^^^^^^^^^^^^^^^^^^^^^^^^^^^^^^^^^^^^^^^^\n",
            "[child stderr]   File \"/usr/local/lib/python3.12/dist-packages/torch/nn/modules/module.py\", line 1773, in _wrapped_call_impl\n",
            "[child stderr]     return self._call_impl(*args, **kwargs)\n",
            "[child stderr]            ^^^^^^^^^^^^^^^^^^^^^^^^^^^^^^^^\n",
            "[child stderr]   File \"/usr/local/lib/python3.12/dist-packages/torch/nn/modules/module.py\", line 1784, in _call_impl\n",
            "[child stderr]     return forward_call(*args, **kwargs)\n",
            "[child stderr]            ^^^^^^^^^^^^^^^^^^^^^^^^^^^^^\n",
            "[child stderr]   File \"/usr/local/lib/python3.12/dist-packages/torch/nn/modules/container.py\", line 244, in forward\n",
            "[child stderr]     input = module(input)\n",
            "[child stderr]             ^^^^^^^^^^^^^\n",
            "[child stderr]   File \"/usr/local/lib/python3.12/dist-packages/torch/nn/modules/module.py\", line 1773, in _wrapped_call_impl\n",
            "[child stderr]     return self._call_impl(*args, **kwargs)\n",
            "[child stderr]            ^^^^^^^^^^^^^^^^^^^^^^^^^^^^^^^^\n",
            "[child stderr]   File \"/usr/local/lib/python3.12/dist-packages/torch/nn/modules/module.py\", line 1784, in _call_impl\n",
            "[child stderr]     return forward_call(*args, **kwargs)\n",
            "[child stderr]            ^^^^^^^^^^^^^^^^^^^^^^^^^^^^^\n",
            "[child stderr]   File \"/usr/local/lib/python3.12/dist-packages/torch/nn/modules/linear.py\", line 125, in forward\n",
            "[child stderr]     return F.linear(input, self.weight, self.bias)\n",
            "[child stderr]            ^^^^^^^^^^^^^^^^^^^^^^^^^^^^^^^^^^^^^^^\n",
            "[child stderr] torch.OutOfMemoryError: CUDA out of memory. Tried to allocate 1.95 GiB. GPU 0 has a total capacity of 14.74 GiB of which 1.20 GiB is free. Process 2482096 has 13.54 GiB memory in use. Of the allocated memory 12.75 GiB is allocated by PyTorch, and 682.18 MiB is reserved by PyTorch but unallocated. If reserved but unallocated memory is large try setting PYTORCH_CUDA_ALLOC_CONF=expandable_segments:True to avoid fragmentation.  See documentation for Memory Management  (https://pytorch.org/docs/stable/notes/cuda.html#environment-variables)\n",
            "Traceback (most recent call last):\n",
            "  File \"/content/pipelines/run_baseline_grape.py\", line 532, in <module>\n",
            "    main()\n",
            "  File \"/content/pipelines/run_baseline_grape.py\", line 514, in main\n",
            "    handle_task(\"label\",  y_cmd,  args.collect_from_y,  label_dir)\n",
            "  File \"/content/pipelines/run_baseline_grape.py\", line 450, in handle_task\n",
            "    t0 = run_cmd(cmd, cwd=str(grape_root), env=env)  # 啟動前的時間戳\n",
            "         ^^^^^^^^^^^^^^^^^^^^^^^^^^^^^^^^^^^^^^^^^^\n",
            "  File \"/content/pipelines/run_baseline_grape.py\", line 120, in run_cmd\n",
            "    raise RuntimeError(f\"Command failed with code {rc}\")\n",
            "RuntimeError: Command failed with code 1\n",
            "Traceback (most recent call last):\n",
            "  File \"/content/pipelines/run_pipeline.py\", line 763, in <module>\n",
            "    raise SystemExit(main())\n",
            "                     ^^^^^^\n",
            "  File \"/content/pipelines/run_pipeline.py\", line 755, in main\n",
            "    call_grape(args, contract, manifest_p)\n",
            "  File \"/content/pipelines/run_pipeline.py\", line 586, in call_grape\n",
            "    raise RuntimeError(f\"GRAPE 執行失敗（returncode={proc.returncode}）\")\n",
            "RuntimeError: GRAPE 執行失敗（returncode=1）\n"
          ]
        }
      ],
      "source": [
        "%%bash\n",
        "mkdir -p /content/logs\n",
        "sed -i \"s/os.makedirs(log_path)/os.makedirs(log_path, exist_ok=True)/\" /content/GRAPE/train_mdi.py\n",
        "sed -i \"s/os.makedirs(log_path)/os.makedirs(log_path, exist_ok=True)/\" /content/GRAPE/train_y.py\n",
        "\n",
        "for s in 0; do\n",
        "  echo \"===== SEED = $s =====\"\n",
        "  python pipelines/run_pipeline.py \\\n",
        "    --grape_root /content/GRAPE \\\n",
        "    --dataset year_mcar30 --seed \"$s\" \\\n",
        "    --artifact_dir /content/grapt_artifacts \\\n",
        "    --modules grape --order grape \\\n",
        "    --auto_prep \\\n",
        "    --grape.task y --grape.inject_artifact_flags \\\n",
        "    --grape_domain pack \\\n",
        "    --pack_root /content/drive/MyDrive/data-t2g/year/baseline/year_mcar30 \\\n",
        "    > \"/content/logs/run_grape_seed${s}.log\" 2>&1\n",
        "done"
      ]
    },
    {
      "cell_type": "markdown",
      "metadata": {
        "id": "-NA53jPWQL0b"
      },
      "source": [
        "### OOM 方案一: --known 失敗"
      ]
    },
    {
      "cell_type": "code",
      "execution_count": null,
      "metadata": {
        "colab": {
          "base_uri": "https://localhost:8080/",
          "height": 1000
        },
        "id": "OxoD00oF_sTz",
        "outputId": "c8cbfbeb-5bc4-4266-dc00-cee1467f1b2a"
      },
      "outputs": [
        {
          "name": "stdout",
          "output_type": "stream",
          "text": [
            "===== SEED = 0 =====\n",
            "\n",
            "[run_cmd] CWD: /content/GRAPE\n",
            "[run_cmd] CMD: python /content/GRAPE/train_mdi.py --seed 0 --artifact_dir /content/grapt_artifacts --dump_intermediate pack --root /content/drive/MyDrive/data-t2g/year/baseline/year_mcar30 --data year_mcar30\n",
            "[child stdout] Namespace(model_types='EGSAGE_EGSAGE_EGSAGE', post_hiddens=None, concat_states=False, norm_embs=None, aggr='mean', node_dim=64, edge_dim=64, edge_mode=1, gnn_activation='relu', impute_hiddens='64', impute_activation='relu', epochs=20000, opt='adam', opt_scheduler='none', opt_restart=0, opt_decay_step=1000, opt_decay_rate=0.9, dropout=0.0, weight_decay=0.0, lr=0.001, known=0.7, auto_known=False, loss_mode=0, valid=0.0, seed=0, log_dir='0', save_model=False, save_prediction=False, transfer_dir=None, transfer_extra='', mode='train', artifact_dir='/content/grapt_artifacts', dump_intermediate=True, prep_only=False, root='/content/drive/MyDrive/data-t2g/year/baseline/year_mcar30', data='year_mcar30', domain='pack')\n",
            "[child stdout] GPU mem: 12, Select GPU 0\n",
            "[child stdout] Using GPU 0\n",
            "[child stdout] ['EGSAGE', 'EGSAGE', 'EGSAGE'] [True, True, True] [64]\n",
            "[child stdout] total trainable_parameters:  26\n",
            "[child stdout] train edge num is 46747210, test edge num is input 46747210, output 6502928\n",
            "[child stdout] [overlay] mask_op=AND | total_masks=1 | n_row=515345, n_col=90\n",
            "[child stdout] [overlay] order=grape\n",
            "[child stdout] [overlay:1] stage=baseline op=AND path=/content/grapt_artifacts/baseline/year_mcar30/seed0/mask.npy\n",
            "[child stdout]     current m: ones=23373605 (50.39%) | rows_keep=370972/515345 | cols_keep=90/90\n",
            "[child stdout]     init   M: ones=23373605 (50.39%) | rows_keep=370972/515345 | cols_keep=90/90\n",
            "[child stdout] [IMPORT] gnn_mdi: mask_op=AND; edges kept 46747210/46747210; order=grape\n",
            "[INFO] manifest 寫入：/content/grapt_artifacts/baseline/year_mcar30/seed0/variants/450d5cd19cfc/overlay_manifest.json\n",
            "[RUN ] grape: start @ 2025-09-02 17:40:46\n",
            "  → 呼叫 GRAPE: /usr/bin/python3 /content/pipelines/run_baseline_grape.py --grape_root /content/GRAPE --dataset year_mcar30 --seed 0 --artifact_dir /content/grapt_artifacts --inject_artifact_flags --y_cmd python /content/GRAPE/train_y.py                   --seed 0                   --node_dim 4 --edge_dim 4                   --known 0.0005                   pack --root /content/drive/MyDrive/data-t2g/year/baseline/year_mcar30                   --data year_mcar30 --grape_domain pack --pack_root /content/drive/MyDrive/data-t2g/year/baseline/year_mcar30\n"
          ]
        },
        {
          "name": "stderr",
          "output_type": "stream",
          "text": [
            "[child stderr] Traceback (most recent call last):\n",
            "[child stderr]   File \"/content/GRAPE/train_mdi.py\", line 103, in <module>\n",
            "[child stderr]     main()\n",
            "[child stderr]   File \"/content/GRAPE/train_mdi.py\", line 99, in main\n",
            "[child stderr]     train_gnn_mdi(data, args, log_path, device)\n",
            "[child stderr]   File \"/content/GRAPE/training/gnn_mdi.py\", line 324, in train_gnn_mdi\n",
            "[child stderr]     x_embd = model(x, known_edge_attr, known_edge_index)\n",
            "[child stderr]              ^^^^^^^^^^^^^^^^^^^^^^^^^^^^^^^^^^^^^^^^^^^\n",
            "[child stderr]   File \"/usr/local/lib/python3.12/dist-packages/torch/nn/modules/module.py\", line 1773, in _wrapped_call_impl\n",
            "[child stderr]     return self._call_impl(*args, **kwargs)\n",
            "[child stderr]            ^^^^^^^^^^^^^^^^^^^^^^^^^^^^^^^^\n",
            "[child stderr]   File \"/usr/local/lib/python3.12/dist-packages/torch/nn/modules/module.py\", line 1784, in _call_impl\n",
            "[child stderr]     return forward_call(*args, **kwargs)\n",
            "[child stderr]            ^^^^^^^^^^^^^^^^^^^^^^^^^^^^^\n",
            "[child stderr]   File \"/content/GRAPE/models/gnn_model.py\", line 129, in forward\n",
            "[child stderr]     x = conv(x, edge_attr, edge_index)\n",
            "[child stderr]         ^^^^^^^^^^^^^^^^^^^^^^^^^^^^^^\n",
            "[child stderr]   File \"/usr/local/lib/python3.12/dist-packages/torch/nn/modules/module.py\", line 1773, in _wrapped_call_impl\n",
            "[child stderr]     return self._call_impl(*args, **kwargs)\n",
            "[child stderr]            ^^^^^^^^^^^^^^^^^^^^^^^^^^^^^^^^\n",
            "[child stderr]   File \"/usr/local/lib/python3.12/dist-packages/torch/nn/modules/module.py\", line 1784, in _call_impl\n",
            "[child stderr]     return forward_call(*args, **kwargs)\n",
            "[child stderr]            ^^^^^^^^^^^^^^^^^^^^^^^^^^^^^\n",
            "[child stderr]   File \"/content/GRAPE/models/egsage.py\", line 55, in forward\n",
            "[child stderr]     return self.propagate(edge_index, x=x, edge_attr=edge_attr, size=(num_nodes, num_nodes))\n",
            "[child stderr]            ^^^^^^^^^^^^^^^^^^^^^^^^^^^^^^^^^^^^^^^^^^^^^^^^^^^^^^^^^^^^^^^^^^^^^^^^^^^^^^^^^\n",
            "[child stderr]   File \"/tmp/models.egsage_EGraphSage_propagate_foxs244h.py\", line 216, in propagate\n",
            "[child stderr]     out = self.message(\n",
            "[child stderr]           ^^^^^^^^^^^^^\n",
            "[child stderr]   File \"/content/GRAPE/models/egsage.py\", line 65, in message\n",
            "[child stderr]     m_j = self.message_activation(self.message_lin(m_j))\n",
            "[child stderr]           ^^^^^^^^^^^^^^^^^^^^^^^^^^^^^^^^^^^^^^^^^^^^^^\n",
            "[child stderr]   File \"/usr/local/lib/python3.12/dist-packages/torch/nn/modules/module.py\", line 1773, in _wrapped_call_impl\n",
            "[child stderr]     return self._call_impl(*args, **kwargs)\n",
            "[child stderr]            ^^^^^^^^^^^^^^^^^^^^^^^^^^^^^^^^\n",
            "[child stderr]   File \"/usr/local/lib/python3.12/dist-packages/torch/nn/modules/module.py\", line 1784, in _call_impl\n",
            "[child stderr]     return forward_call(*args, **kwargs)\n",
            "[child stderr]            ^^^^^^^^^^^^^^^^^^^^^^^^^^^^^\n",
            "[child stderr]   File \"/usr/local/lib/python3.12/dist-packages/torch/nn/modules/activation.py\", line 135, in forward\n",
            "[child stderr]     return F.relu(input, inplace=self.inplace)\n",
            "[child stderr]            ^^^^^^^^^^^^^^^^^^^^^^^^^^^^^^^^^^^\n",
            "[child stderr]   File \"/usr/local/lib/python3.12/dist-packages/torch/nn/functional.py\", line 1701, in relu\n",
            "[child stderr]     result = torch.relu(input)\n",
            "[child stderr]              ^^^^^^^^^^^^^^^^^\n",
            "[child stderr] torch.OutOfMemoryError: CUDA out of memory. Tried to allocate 7.80 GiB. GPU 0 has a total capacity of 14.74 GiB of which 4.54 GiB is free. Process 254814 has 10.20 GiB memory in use. Of the allocated memory 10.07 GiB is allocated by PyTorch, and 15.02 MiB is reserved by PyTorch but unallocated. If reserved but unallocated memory is large try setting PYTORCH_CUDA_ALLOC_CONF=expandable_segments:True to avoid fragmentation.  See documentation for Memory Management  (https://pytorch.org/docs/stable/notes/cuda.html#environment-variables)\n",
            "Traceback (most recent call last):\n",
            "  File \"/content/pipelines/run_baseline_grape.py\", line 532, in <module>\n",
            "    main()\n",
            "  File \"/content/pipelines/run_baseline_grape.py\", line 512, in main\n",
            "    handle_task(\"impute\", mdi_cmd, args.collect_from_mdi, impute_dir)\n",
            "  File \"/content/pipelines/run_baseline_grape.py\", line 450, in handle_task\n",
            "    t0 = run_cmd(cmd, cwd=str(grape_root), env=env)  # 啟動前的時間戳\n",
            "         ^^^^^^^^^^^^^^^^^^^^^^^^^^^^^^^^^^^^^^^^^^\n",
            "  File \"/content/pipelines/run_baseline_grape.py\", line 120, in run_cmd\n",
            "    raise RuntimeError(f\"Command failed with code {rc}\")\n",
            "RuntimeError: Command failed with code 1\n",
            "Traceback (most recent call last):\n",
            "  File \"/content/pipelines/run_pipeline.py\", line 763, in <module>\n",
            "    raise SystemExit(main())\n",
            "                     ^^^^^^\n",
            "  File \"/content/pipelines/run_pipeline.py\", line 755, in main\n",
            "    call_grape(args, contract, manifest_p)\n",
            "  File \"/content/pipelines/run_pipeline.py\", line 586, in call_grape\n",
            "    raise RuntimeError(f\"GRAPE 執行失敗（returncode={proc.returncode}）\")\n",
            "RuntimeError: GRAPE 執行失敗（returncode=1）\n"
          ]
        },
        {
          "ename": "CalledProcessError",
          "evalue": "Command 'b'mkdir -p /content/logs\\nsed -i \"s/os.makedirs(log_path)/os.makedirs(log_path, exist_ok=True)/\" /content/GRAPE/train_mdi.py\\nsed -i \"s/os.makedirs(log_path)/os.makedirs(log_path, exist_ok=True)/\" /content/GRAPE/train_y.py\\n\\nset -e\\nexport PYTORCH_CUDA_ALLOC_CONF=expandable_segments:True\\n\\nfor s in 0; do\\n  echo \"===== SEED = $s =====\"\\n  python pipelines/run_pipeline.py \\\\\\n    --grape_root /content/GRAPE \\\\\\n    --dataset year_mcar30 --seed 0 \\\\\\n    --artifact_dir /content/grapt_artifacts \\\\\\n    --modules grape --order grape \\\\\\n    --auto_prep \\\\\\n    --grape_domain pack \\\\\\n    --pack_root /content/drive/MyDrive/data-t2g/year/baseline/year_mcar30 \\\\\\n    --grape.inject_artifact_flags \\\\\\n    --grape.y_cmd \"python /content/GRAPE/train_y.py \\\\\\n                  --seed 0 \\\\\\n                  --node_dim 4 --edge_dim 4 \\\\\\n                  --known 0.0005 \\\\\\n                  pack --root /content/drive/MyDrive/data-t2g/year/baseline/year_mcar30 \\\\\\n                  --data year_mcar30\" # \\\\\\n    # > \"/content/logs/run_grape_seed${s}.log\" 2>&1\\ndone\\n'' returned non-zero exit status 1.",
          "output_type": "error",
          "traceback": [
            "\u001b[0;31m---------------------------------------------------------------------------\u001b[0m",
            "\u001b[0;31mCalledProcessError\u001b[0m                        Traceback (most recent call last)",
            "\u001b[0;32m/tmp/ipython-input-2632403761.py\u001b[0m in \u001b[0;36m<cell line: 0>\u001b[0;34m()\u001b[0m\n\u001b[0;32m----> 1\u001b[0;31m \u001b[0mget_ipython\u001b[0m\u001b[0;34m(\u001b[0m\u001b[0;34m)\u001b[0m\u001b[0;34m.\u001b[0m\u001b[0mrun_cell_magic\u001b[0m\u001b[0;34m(\u001b[0m\u001b[0;34m'bash'\u001b[0m\u001b[0;34m,\u001b[0m \u001b[0;34m''\u001b[0m\u001b[0;34m,\u001b[0m \u001b[0;34m'mkdir -p /content/logs\\nsed -i \"s/os.makedirs(log_path)/os.makedirs(log_path, exist_ok=True)/\" /content/GRAPE/train_mdi.py\\nsed -i \"s/os.makedirs(log_path)/os.makedirs(log_path, exist_ok=True)/\" /content/GRAPE/train_y.py\\n\\nset -e\\nexport PYTORCH_CUDA_ALLOC_CONF=expandable_segments:True\\n\\nfor s in 0; do\\n  echo \"===== SEED = $s =====\"\\n  python pipelines/run_pipeline.py \\\\\\n    --grape_root /content/GRAPE \\\\\\n    --dataset year_mcar30 --seed 0 \\\\\\n    --artifact_dir /content/grapt_artifacts \\\\\\n    --modules grape --order grape \\\\\\n    --auto_prep \\\\\\n    --grape_domain pack \\\\\\n    --pack_root /content/drive/MyDrive/data-t2g/year/baseline/year_mcar30 \\\\\\n    --grape.inject_artifact_flags \\\\\\n    --grape.y_cmd \"python /content/GRAPE/train_y.py \\\\\\n                  --seed 0 \\\\\\n                  --node_dim 4 --edge_dim 4 \\\\\\n                  --known 0.0005 \\\\\\n                  pack --root /content/drive/MyDrive/data-t2g/year/baseline/year_mcar30 \\\\\\n                  --data year_mcar30\" # \\\\\\n    # > \"/content/logs/run_grape_seed${s}.log\" 2>&1\\ndone\\n'\u001b[0m\u001b[0;34m)\u001b[0m\u001b[0;34m\u001b[0m\u001b[0;34m\u001b[0m\u001b[0m\n\u001b[0m",
            "\u001b[0;32m/usr/local/lib/python3.12/dist-packages/google/colab/_shell.py\u001b[0m in \u001b[0;36mrun_cell_magic\u001b[0;34m(self, magic_name, line, cell)\u001b[0m\n\u001b[1;32m    274\u001b[0m     \u001b[0;32mif\u001b[0m \u001b[0mline\u001b[0m \u001b[0;32mand\u001b[0m \u001b[0;32mnot\u001b[0m \u001b[0mcell\u001b[0m\u001b[0;34m:\u001b[0m\u001b[0;34m\u001b[0m\u001b[0;34m\u001b[0m\u001b[0m\n\u001b[1;32m    275\u001b[0m       \u001b[0mcell\u001b[0m \u001b[0;34m=\u001b[0m \u001b[0;34m' '\u001b[0m\u001b[0;34m\u001b[0m\u001b[0;34m\u001b[0m\u001b[0m\n\u001b[0;32m--> 276\u001b[0;31m     \u001b[0;32mreturn\u001b[0m \u001b[0msuper\u001b[0m\u001b[0;34m(\u001b[0m\u001b[0;34m)\u001b[0m\u001b[0;34m.\u001b[0m\u001b[0mrun_cell_magic\u001b[0m\u001b[0;34m(\u001b[0m\u001b[0mmagic_name\u001b[0m\u001b[0;34m,\u001b[0m \u001b[0mline\u001b[0m\u001b[0;34m,\u001b[0m \u001b[0mcell\u001b[0m\u001b[0;34m)\u001b[0m\u001b[0;34m\u001b[0m\u001b[0;34m\u001b[0m\u001b[0m\n\u001b[0m\u001b[1;32m    277\u001b[0m \u001b[0;34m\u001b[0m\u001b[0m\n\u001b[1;32m    278\u001b[0m \u001b[0;34m\u001b[0m\u001b[0m\n",
            "\u001b[0;32m/usr/local/lib/python3.12/dist-packages/IPython/core/interactiveshell.py\u001b[0m in \u001b[0;36mrun_cell_magic\u001b[0;34m(self, magic_name, line, cell)\u001b[0m\n\u001b[1;32m   2471\u001b[0m             \u001b[0;32mwith\u001b[0m \u001b[0mself\u001b[0m\u001b[0;34m.\u001b[0m\u001b[0mbuiltin_trap\u001b[0m\u001b[0;34m:\u001b[0m\u001b[0;34m\u001b[0m\u001b[0;34m\u001b[0m\u001b[0m\n\u001b[1;32m   2472\u001b[0m                 \u001b[0margs\u001b[0m \u001b[0;34m=\u001b[0m \u001b[0;34m(\u001b[0m\u001b[0mmagic_arg_s\u001b[0m\u001b[0;34m,\u001b[0m \u001b[0mcell\u001b[0m\u001b[0;34m)\u001b[0m\u001b[0;34m\u001b[0m\u001b[0;34m\u001b[0m\u001b[0m\n\u001b[0;32m-> 2473\u001b[0;31m                 \u001b[0mresult\u001b[0m \u001b[0;34m=\u001b[0m \u001b[0mfn\u001b[0m\u001b[0;34m(\u001b[0m\u001b[0;34m*\u001b[0m\u001b[0margs\u001b[0m\u001b[0;34m,\u001b[0m \u001b[0;34m**\u001b[0m\u001b[0mkwargs\u001b[0m\u001b[0;34m)\u001b[0m\u001b[0;34m\u001b[0m\u001b[0;34m\u001b[0m\u001b[0m\n\u001b[0m\u001b[1;32m   2474\u001b[0m             \u001b[0;32mreturn\u001b[0m \u001b[0mresult\u001b[0m\u001b[0;34m\u001b[0m\u001b[0;34m\u001b[0m\u001b[0m\n\u001b[1;32m   2475\u001b[0m \u001b[0;34m\u001b[0m\u001b[0m\n",
            "\u001b[0;32m/usr/local/lib/python3.12/dist-packages/IPython/core/magics/script.py\u001b[0m in \u001b[0;36mnamed_script_magic\u001b[0;34m(line, cell)\u001b[0m\n\u001b[1;32m    140\u001b[0m             \u001b[0;32melse\u001b[0m\u001b[0;34m:\u001b[0m\u001b[0;34m\u001b[0m\u001b[0;34m\u001b[0m\u001b[0m\n\u001b[1;32m    141\u001b[0m                 \u001b[0mline\u001b[0m \u001b[0;34m=\u001b[0m \u001b[0mscript\u001b[0m\u001b[0;34m\u001b[0m\u001b[0;34m\u001b[0m\u001b[0m\n\u001b[0;32m--> 142\u001b[0;31m             \u001b[0;32mreturn\u001b[0m \u001b[0mself\u001b[0m\u001b[0;34m.\u001b[0m\u001b[0mshebang\u001b[0m\u001b[0;34m(\u001b[0m\u001b[0mline\u001b[0m\u001b[0;34m,\u001b[0m \u001b[0mcell\u001b[0m\u001b[0;34m)\u001b[0m\u001b[0;34m\u001b[0m\u001b[0;34m\u001b[0m\u001b[0m\n\u001b[0m\u001b[1;32m    143\u001b[0m \u001b[0;34m\u001b[0m\u001b[0m\n\u001b[1;32m    144\u001b[0m         \u001b[0;31m# write a basic docstring:\u001b[0m\u001b[0;34m\u001b[0m\u001b[0;34m\u001b[0m\u001b[0m\n",
            "\u001b[0;32m<decorator-gen-103>\u001b[0m in \u001b[0;36mshebang\u001b[0;34m(self, line, cell)\u001b[0m\n",
            "\u001b[0;32m/usr/local/lib/python3.12/dist-packages/IPython/core/magic.py\u001b[0m in \u001b[0;36m<lambda>\u001b[0;34m(f, *a, **k)\u001b[0m\n\u001b[1;32m    185\u001b[0m     \u001b[0;31m# but it's overkill for just that one bit of state.\u001b[0m\u001b[0;34m\u001b[0m\u001b[0;34m\u001b[0m\u001b[0m\n\u001b[1;32m    186\u001b[0m     \u001b[0;32mdef\u001b[0m \u001b[0mmagic_deco\u001b[0m\u001b[0;34m(\u001b[0m\u001b[0marg\u001b[0m\u001b[0;34m)\u001b[0m\u001b[0;34m:\u001b[0m\u001b[0;34m\u001b[0m\u001b[0;34m\u001b[0m\u001b[0m\n\u001b[0;32m--> 187\u001b[0;31m         \u001b[0mcall\u001b[0m \u001b[0;34m=\u001b[0m \u001b[0;32mlambda\u001b[0m \u001b[0mf\u001b[0m\u001b[0;34m,\u001b[0m \u001b[0;34m*\u001b[0m\u001b[0ma\u001b[0m\u001b[0;34m,\u001b[0m \u001b[0;34m**\u001b[0m\u001b[0mk\u001b[0m\u001b[0;34m:\u001b[0m \u001b[0mf\u001b[0m\u001b[0;34m(\u001b[0m\u001b[0;34m*\u001b[0m\u001b[0ma\u001b[0m\u001b[0;34m,\u001b[0m \u001b[0;34m**\u001b[0m\u001b[0mk\u001b[0m\u001b[0;34m)\u001b[0m\u001b[0;34m\u001b[0m\u001b[0;34m\u001b[0m\u001b[0m\n\u001b[0m\u001b[1;32m    188\u001b[0m \u001b[0;34m\u001b[0m\u001b[0m\n\u001b[1;32m    189\u001b[0m         \u001b[0;32mif\u001b[0m \u001b[0mcallable\u001b[0m\u001b[0;34m(\u001b[0m\u001b[0marg\u001b[0m\u001b[0;34m)\u001b[0m\u001b[0;34m:\u001b[0m\u001b[0;34m\u001b[0m\u001b[0;34m\u001b[0m\u001b[0m\n",
            "\u001b[0;32m/usr/local/lib/python3.12/dist-packages/IPython/core/magics/script.py\u001b[0m in \u001b[0;36mshebang\u001b[0;34m(self, line, cell)\u001b[0m\n\u001b[1;32m    243\u001b[0m             \u001b[0msys\u001b[0m\u001b[0;34m.\u001b[0m\u001b[0mstderr\u001b[0m\u001b[0;34m.\u001b[0m\u001b[0mflush\u001b[0m\u001b[0;34m(\u001b[0m\u001b[0;34m)\u001b[0m\u001b[0;34m\u001b[0m\u001b[0;34m\u001b[0m\u001b[0m\n\u001b[1;32m    244\u001b[0m         \u001b[0;32mif\u001b[0m \u001b[0margs\u001b[0m\u001b[0;34m.\u001b[0m\u001b[0mraise_error\u001b[0m \u001b[0;32mand\u001b[0m \u001b[0mp\u001b[0m\u001b[0;34m.\u001b[0m\u001b[0mreturncode\u001b[0m\u001b[0;34m!=\u001b[0m\u001b[0;36m0\u001b[0m\u001b[0;34m:\u001b[0m\u001b[0;34m\u001b[0m\u001b[0;34m\u001b[0m\u001b[0m\n\u001b[0;32m--> 245\u001b[0;31m             \u001b[0;32mraise\u001b[0m \u001b[0mCalledProcessError\u001b[0m\u001b[0;34m(\u001b[0m\u001b[0mp\u001b[0m\u001b[0;34m.\u001b[0m\u001b[0mreturncode\u001b[0m\u001b[0;34m,\u001b[0m \u001b[0mcell\u001b[0m\u001b[0;34m,\u001b[0m \u001b[0moutput\u001b[0m\u001b[0;34m=\u001b[0m\u001b[0mout\u001b[0m\u001b[0;34m,\u001b[0m \u001b[0mstderr\u001b[0m\u001b[0;34m=\u001b[0m\u001b[0merr\u001b[0m\u001b[0;34m)\u001b[0m\u001b[0;34m\u001b[0m\u001b[0;34m\u001b[0m\u001b[0m\n\u001b[0m\u001b[1;32m    246\u001b[0m \u001b[0;34m\u001b[0m\u001b[0m\n\u001b[1;32m    247\u001b[0m     \u001b[0;32mdef\u001b[0m \u001b[0m_run_script\u001b[0m\u001b[0;34m(\u001b[0m\u001b[0mself\u001b[0m\u001b[0;34m,\u001b[0m \u001b[0mp\u001b[0m\u001b[0;34m,\u001b[0m \u001b[0mcell\u001b[0m\u001b[0;34m,\u001b[0m \u001b[0mto_close\u001b[0m\u001b[0;34m)\u001b[0m\u001b[0;34m:\u001b[0m\u001b[0;34m\u001b[0m\u001b[0;34m\u001b[0m\u001b[0m\n",
            "\u001b[0;31mCalledProcessError\u001b[0m: Command 'b'mkdir -p /content/logs\\nsed -i \"s/os.makedirs(log_path)/os.makedirs(log_path, exist_ok=True)/\" /content/GRAPE/train_mdi.py\\nsed -i \"s/os.makedirs(log_path)/os.makedirs(log_path, exist_ok=True)/\" /content/GRAPE/train_y.py\\n\\nset -e\\nexport PYTORCH_CUDA_ALLOC_CONF=expandable_segments:True\\n\\nfor s in 0; do\\n  echo \"===== SEED = $s =====\"\\n  python pipelines/run_pipeline.py \\\\\\n    --grape_root /content/GRAPE \\\\\\n    --dataset year_mcar30 --seed 0 \\\\\\n    --artifact_dir /content/grapt_artifacts \\\\\\n    --modules grape --order grape \\\\\\n    --auto_prep \\\\\\n    --grape_domain pack \\\\\\n    --pack_root /content/drive/MyDrive/data-t2g/year/baseline/year_mcar30 \\\\\\n    --grape.inject_artifact_flags \\\\\\n    --grape.y_cmd \"python /content/GRAPE/train_y.py \\\\\\n                  --seed 0 \\\\\\n                  --node_dim 4 --edge_dim 4 \\\\\\n                  --known 0.0005 \\\\\\n                  pack --root /content/drive/MyDrive/data-t2g/year/baseline/year_mcar30 \\\\\\n                  --data year_mcar30\" # \\\\\\n    # > \"/content/logs/run_grape_seed${s}.log\" 2>&1\\ndone\\n'' returned non-zero exit status 1."
          ]
        }
      ],
      "source": [
        "%%bash\n",
        "mkdir -p /content/logs\n",
        "sed -i \"s/os.makedirs(log_path)/os.makedirs(log_path, exist_ok=True)/\" /content/GRAPE/train_mdi.py\n",
        "sed -i \"s/os.makedirs(log_path)/os.makedirs(log_path, exist_ok=True)/\" /content/GRAPE/train_y.py\n",
        "\n",
        "set -e\n",
        "export PYTORCH_CUDA_ALLOC_CONF=expandable_segments:True\n",
        "\n",
        "for s in 0; do\n",
        "  echo \"===== SEED = $s =====\"\n",
        "  python pipelines/run_pipeline.py \\\n",
        "    --grape_root /content/GRAPE \\\n",
        "    --dataset year_mcar30 --seed 0 \\\n",
        "    --artifact_dir /content/grapt_artifacts \\\n",
        "    --modules grape --order grape \\\n",
        "    --auto_prep \\\n",
        "    --grape_domain pack \\\n",
        "    --pack_root /content/drive/MyDrive/data-t2g/year/baseline/year_mcar30 \\\n",
        "    --grape.inject_artifact_flags \\\n",
        "    --grape.y_cmd \"python /content/GRAPE/train_y.py \\\n",
        "                  --seed 0 \\\n",
        "                  --node_dim 4 --edge_dim 4 \\\n",
        "                  --known 0.0005 \\\n",
        "                  pack --root /content/drive/MyDrive/data-t2g/year/baseline/year_mcar30 \\\n",
        "                  --data year_mcar30\" # \\\n",
        "    # > \"/content/logs/run_grape_seed${s}.log\" 2>&1\n",
        "done"
      ]
    },
    {
      "cell_type": "markdown",
      "metadata": {
        "id": "TZ_17PGjdnlg"
      },
      "source": [
        "### OOM 方案二 row_cap"
      ]
    },
    {
      "cell_type": "code",
      "execution_count": null,
      "metadata": {
        "id": "m-8S53ZeMHSC"
      },
      "outputs": [],
      "source": [
        "%%bash\n",
        "mkdir -p /content/logs\n",
        "sed -i \"s/os.makedirs(log_path)/os.makedirs(log_path, exist_ok=True)/\" /content/GRAPE/train_mdi.py\n",
        "sed -i \"s/os.makedirs(log_path)/os.makedirs(log_path, exist_ok=True)/\" /content/GRAPE/train_y.py"
      ]
    },
    {
      "cell_type": "code",
      "execution_count": null,
      "metadata": {
        "colab": {
          "base_uri": "https://localhost:8080/"
        },
        "id": "2EBctSO6dtUe",
        "outputId": "e9b95a44-0ac8-4885-b83f-2025f5eca345"
      },
      "outputs": [
        {
          "name": "stdout",
          "output_type": "stream",
          "text": [
            "[row_cap] rows=10000, cols=90, mask_ones=631245 (≈70.14%)\n"
          ]
        }
      ],
      "source": [
        "%%bash\n",
        "mkdir -p /content/logs\n",
        "sed -i \"s/os.makedirs(log_path)/os.makedirs(log_path, exist_ok=True)/\" /content/GRAPE/train_mdi.py\n",
        "sed -i \"s/os.makedirs(log_path)/os.makedirs(log_path, exist_ok=True)/\" /content/GRAPE/train_y.py\n",
        "\n",
        "# ===== A) 先做 \"row-capped\" baseline =====\n",
        "SRC=/content/drive/MyDrive/data-t2g/year/baseline/year_mcar30\n",
        "DST=/content/drive/MyDrive/data-t2g/year/baseline/year_mcar30_cap10k_s0\n",
        "CAP=10000     # 先試 80k；如果還吃不下，換 60000；穩了再升到 120000\n",
        "SEED=0\n",
        "\n",
        "python - <<'PY'\n",
        "import os, json, numpy as np\n",
        "from pathlib import Path\n",
        "SRC = Path(\"/content/drive/MyDrive/data-t2g/year/baseline/year_mcar30\")\n",
        "DST = Path(\"/content/drive/MyDrive/data-t2g/year/baseline/year_mcar30_cap10k_s0\")\n",
        "CAP = 10000\n",
        "SEED = 0\n",
        "\n",
        "DST.mkdir(parents=True, exist_ok=True)\n",
        "X = np.load(SRC/\"X_norm.npy\")     # (N,d)\n",
        "y = np.load(SRC/\"y.npy\")          # (N,)\n",
        "M = np.load(SRC/\"mask.npy\")       # (N,d) 0/1\n",
        "split = json.load(open(SRC/\"split_idx.json\",\"r\"))\n",
        "\n",
        "N = X.shape[0]\n",
        "tr = np.asarray(split[\"train\"], dtype=np.int64)\n",
        "va = np.asarray(split.get(\"val\", []), dtype=np.int64)\n",
        "te = np.asarray(split[\"test\"], dtype=np.int64)\n",
        "\n",
        "n_tr = int(round(CAP * (tr.size / N)))\n",
        "n_va = int(round(CAP * (va.size / N))) if va.size else 0\n",
        "n_te = max(CAP - n_tr - n_va, 1)\n",
        "\n",
        "rng = np.random.default_rng(SEED)\n",
        "keep_tr = rng.choice(tr, size=min(n_tr, tr.size), replace=False)\n",
        "keep_va = rng.choice(va, size=min(n_va, va.size), replace=False) if va.size else np.array([], np.int64)\n",
        "keep_te = rng.choice(te, size=min(n_te, te.size), replace=False)\n",
        "keep_rows = np.concatenate([keep_tr, keep_va, keep_te]); keep_rows.sort()\n",
        "\n",
        "X2 = X[keep_rows]; y2 = y[keep_rows]; M2 = M[keep_rows]\n",
        "remap = {old:i for i,old in enumerate(keep_rows.tolist())}\n",
        "split2 = {\n",
        "  \"train\":[remap[i] for i in keep_tr.tolist()],\n",
        "  \"val\":[remap[i] for i in keep_va.tolist()] if keep_va.size else [],\n",
        "  \"test\":[remap[i] for i in keep_te.tolist()],\n",
        "}\n",
        "\n",
        "np.save(DST/\"X_norm.npy\", X2)\n",
        "np.save(DST/\"y.npy\", y2)\n",
        "np.save(DST/\"mask.npy\", M2.astype(np.uint8))\n",
        "json.dump(split2, open(DST/\"split_idx.json\",\"w\"), ensure_ascii=False)\n",
        "\n",
        "# 小提示輸出\n",
        "m = M2.sum()\n",
        "d = X2.shape[1]\n",
        "print(f\"[row_cap] rows={X2.shape[0]}, cols={d}, mask_ones={int(m)} (≈{m/(X2.shape[0]*d):.2%})\")\n",
        "PY\n"
      ]
    },
    {
      "cell_type": "markdown",
      "metadata": {
        "id": "UIOFjG3DKEXz"
      },
      "source": [
        "#### GRAPE"
      ]
    },
    {
      "cell_type": "code",
      "execution_count": null,
      "metadata": {
        "colab": {
          "base_uri": "https://localhost:8080/"
        },
        "id": "oNvXv6kDhLyl",
        "outputId": "4f673aef-2de5-4e61-8c0f-0691f00a086e"
      },
      "outputs": [
        {
          "name": "stdout",
          "output_type": "stream",
          "text": [
            "[STEP 1] Rebuild mask = ~isnan(X_norm)\n",
            "[SRC] rows_keep = 10000 / 10000 | cols_keep = 90 / 90\n",
            "[STEP 2] Prime artifacts baseline with 4 files\n",
            "[CHK] baseline primed:\n",
            "-rw------- 1 root root 880K Sep  4 11:04 /content/grapt_artifacts/baseline/year_mcar30/seed0/mask.npy\n",
            "-rw------- 1 root root  58K Sep  4 11:04 /content/grapt_artifacts/baseline/year_mcar30/seed0/split_idx.json\n",
            "-rw------- 1 root root 3.5M Sep  4 11:04 /content/grapt_artifacts/baseline/year_mcar30/seed0/X_norm.npy\n",
            "-rw------- 1 root root  79K Sep  4 11:04 /content/grapt_artifacts/baseline/year_mcar30/seed0/y.npy\n",
            "[STEP 3] Run pipeline (no error swallowing)\n"
          ]
        }
      ],
      "source": [
        "%%bash\n",
        "set -euo pipefail\n",
        "export PYTORCH_CUDA_ALLOC_CONF=expandable_segments:True\n",
        "\n",
        "SRC=/content/drive/MyDrive/data-t2g/year/baseline/year_mcar30_cap10k_s0\n",
        "DST=/content/grapt_artifacts/baseline/year_mcar30/seed0\n",
        "\n",
        "echo \"[STEP 1] Rebuild mask = ~isnan(X_norm)\"\n",
        "python - <<'PY'\n",
        "import numpy as np, os\n",
        "root = \"/content/drive/MyDrive/data-t2g/year/baseline/year_mcar30_cap10k_s0\"\n",
        "X = np.load(os.path.join(root, \"X_norm.npy\"))\n",
        "m = (~np.isnan(X)).astype('uint8')\n",
        "np.save(os.path.join(root, \"mask.npy\"), m)\n",
        "print(\"[SRC] rows_keep =\", int(m.any(axis=1).sum()), \"/\", m.shape[0],\n",
        "      \"| cols_keep =\", int(m.any(axis=0).sum()), \"/\", m.shape[1])\n",
        "PY\n",
        "\n",
        "echo \"[STEP 2] Prime artifacts baseline with 4 files\"\n",
        "mkdir -p \"$DST\"\n",
        "cp -f \"$SRC\"/{X_norm.npy,mask.npy,y.npy,split_idx.json} \"$DST\"/\n",
        "rm -rf \"$DST/variants\"\n",
        "echo \"[CHK] baseline primed:\"\n",
        "ls -lh \"$DST\"/X_norm.npy \"$DST\"/mask.npy \"$DST\"/y.npy \"$DST\"/split_idx.json\n",
        "\n",
        "echo \"[STEP 3] Run pipeline (no error swallowing)\"\n",
        "python pipelines/run_pipeline.py \\\n",
        "  --grape_root /content/GRAPE \\\n",
        "  --dataset year_mcar30 --seed 1 \\\n",
        "  --artifact_dir /content/grapt_artifacts \\\n",
        "  --modules grape --order grape \\\n",
        "  --auto_prep \\\n",
        "  --grape_domain pack \\\n",
        "  --pack_root \"$SRC\" \\\n",
        "  --grape.allow_fallback \\\n",
        "  --grape.task y \\\n",
        "  --grape.y_cmd \"python /content/GRAPE/train_y.py --seed 0 \\\n",
        "                 --node_dim 8 --edge_dim 8 \\\n",
        "                 --known 0.01 --opt_scheduler none \\\n",
        "                 --dump_intermediate \\\n",
        "                 pack --root $SRC --data year_mcar30\" \\\n",
        "  > \"/content/logs/run_grape_rowcap10k_seed0.log\" 2>&1 || true\n",
        "# --grape.inject_artifact_flags \\ 加了會nan\n",
        "# --grape.inject_artifact_flags \\ 不加會 FileNotFoundError: allow_fallback 啟用，但找不到任何 result.pkl"
      ]
    },
    {
      "cell_type": "markdown",
      "metadata": {
        "id": "p-6TVdCsKGbf"
      },
      "source": [
        "#### T2G GRAPE"
      ]
    },
    {
      "cell_type": "code",
      "execution_count": null,
      "metadata": {
        "colab": {
          "base_uri": "https://localhost:8080/"
        },
        "id": "sR5rkaRzptqi",
        "outputId": "39c20def-c08d-480b-87a1-80422e679372"
      },
      "outputs": [
        {
          "name": "stdout",
          "output_type": "stream",
          "text": [
            "[STEP 1] Rebuild mask = ~isnan(X_norm)\n",
            "[SRC] rows_keep = 10000 / 10000 | cols_keep = 90 / 90\n",
            "[STEP 2] Prime artifacts baseline with 4 files\n",
            "[CHK] baseline primed:\n",
            "-rw------- 1 root root 880K Sep  4 13:13 /content/grapt_artifacts/baseline/year_mcar30/seed0/mask.npy\n",
            "-rw------- 1 root root  58K Sep  4 13:13 /content/grapt_artifacts/baseline/year_mcar30/seed0/split_idx.json\n",
            "-rw------- 1 root root 3.5M Sep  4 13:13 /content/grapt_artifacts/baseline/year_mcar30/seed0/X_norm.npy\n",
            "-rw------- 1 root root  79K Sep  4 13:13 /content/grapt_artifacts/baseline/year_mcar30/seed0/y.npy\n",
            "[STEP 3] Run T2G + GRAPE pipeline\n",
            "=== Done. 看 /content/logs/run_t2g_grape_seed0.log ===\n"
          ]
        }
      ],
      "source": [
        "%%bash\n",
        "set -euo pipefail\n",
        "export PYTORCH_CUDA_ALLOC_CONF=expandable_segments:True\n",
        "\n",
        "# === 路徑設定 ===\n",
        "SRC=/content/drive/MyDrive/data-t2g/year/baseline/year_mcar30_cap10k_s0   # 你縮小後的 baseline 來源\n",
        "DST=/content/grapt_artifacts/baseline/year_mcar30/seed0           # orchestrator 的 baseline 目的地\n",
        "T2G_REPO=/content/T2G-FORMER                        # 你的 T2G-Former 專案根（資料夾）\n",
        "\n",
        "echo \"[STEP 1] Rebuild mask = ~isnan(X_norm)\"\n",
        "python - <<'PY'\n",
        "import numpy as np, os\n",
        "root = \"/content/drive/MyDrive/data-t2g/year/baseline/year_mcar30_cap10k_s0\"\n",
        "X = np.load(os.path.join(root, \"X_norm.npy\"))\n",
        "m = (~np.isnan(X)).astype('uint8')\n",
        "np.save(os.path.join(root, \"mask.npy\"), m)\n",
        "print(\"[SRC] rows_keep =\", int(m.any(axis=1).sum()), \"/\", m.shape[0],\n",
        "      \"| cols_keep =\", int(m.any(axis=0).sum()), \"/\", m.shape[1])\n",
        "PY\n",
        "\n",
        "echo \"[STEP 2] Prime artifacts baseline with 4 files\"\n",
        "mkdir -p \"$DST\"\n",
        "cp -f \"$SRC\"/{X_norm.npy,mask.npy,y.npy,split_idx.json} \"$DST\"/\n",
        "rm -rf \"$DST/variants\"\n",
        "echo \"[CHK] baseline primed:\"\n",
        "ls -lh \"$DST\"/X_norm.npy \"$DST\"/mask.npy \"$DST\"/y.npy \"$DST\"/split_idx.json\n",
        "\n",
        "echo \"[STEP 3] Run T2G + GRAPE pipeline\"\n",
        "python pipelines/run_pipeline.py \\\n",
        "  --grape_root /content/GRAPE \\\n",
        "  --dataset year_mcar30 --seed 0 \\\n",
        "  --artifact_dir /content/grapt_artifacts \\\n",
        "  --modules t2gexp,t2g,grape --order 't2gexp>t2g>grape' \\\n",
        "  --mask_op AND \\\n",
        "  --auto_prep \\\n",
        "  --grape_domain pack \\\n",
        "  --pack_root \"$SRC\" \\\n",
        "  --t2gexp.t2g_repo \"$T2G_REPO\" \\\n",
        "  --t2gexp.epochs 50 \\\n",
        "  --t2gexp.train_on overlay \\\n",
        "  --t2g.keep_cols_ratio 0.50 \\\n",
        "  --grape.task y \\\n",
        "  --grape.y_cmd \"python /content/GRAPE/train_y.py --seed 0 \\\n",
        "                 --node_dim 8 --edge_dim 8 \\\n",
        "                 --known 0.01 --opt_scheduler none \\\n",
        "                 --dump_intermediate \\\n",
        "                 pack --root $SRC --data year_mcar30\" \\\n",
        "  > \"/content/logs/run_t2g_grape_seed0.log\" 2>&1 || true\n",
        "\n",
        "echo \"=== Done. 看 /content/logs/run_t2g_grape_seed0.log ===\"\n"
      ]
    },
    {
      "cell_type": "markdown",
      "metadata": {
        "id": "59vFFiEeKJQR"
      },
      "source": [
        "#### random GRAPE"
      ]
    },
    {
      "cell_type": "code",
      "execution_count": null,
      "metadata": {
        "colab": {
          "base_uri": "https://localhost:8080/"
        },
        "id": "Hi4uCGOeKIpP",
        "outputId": "794a031f-9b44-4407-8a91-eac94dc85397"
      },
      "outputs": [
        {
          "name": "stdout",
          "output_type": "stream",
          "text": [
            "[STEP 1] Rebuild mask = ~isnan(X_norm)\n",
            "[SRC] rows_keep = 10000 / 10000 | cols_keep = 90 / 90\n",
            "[STEP 2] Prime artifacts baseline with 4 files\n",
            "[CHK] baseline primed:\n",
            "-rw------- 1 root root 880K Sep  4 12:55 /content/grapt_artifacts/baseline/year_mcar30/seed0/mask.npy\n",
            "-rw------- 1 root root  58K Sep  4 12:55 /content/grapt_artifacts/baseline/year_mcar30/seed0/split_idx.json\n",
            "-rw------- 1 root root 3.5M Sep  4 12:55 /content/grapt_artifacts/baseline/year_mcar30/seed0/X_norm.npy\n",
            "-rw------- 1 root root  79K Sep  4 12:55 /content/grapt_artifacts/baseline/year_mcar30/seed0/y.npy\n",
            "[STEP 3] Run RANDOM(col drop) + GRAPE pipeline\n",
            "=== Done. 看 /content/logs/run_random_grape_seed0.log ===\n"
          ]
        }
      ],
      "source": [
        "%%bash\n",
        "set -euo pipefail\n",
        "export PYTORCH_CUDA_ALLOC_CONF=expandable_segments:True\n",
        "\n",
        "# === 路徑設定 ===\n",
        "SRC=/content/drive/MyDrive/data-t2g/year/baseline/year_mcar30_cap10k_s0\n",
        "DST=/content/grapt_artifacts/baseline/year_mcar30/seed0\n",
        "\n",
        "echo \"[STEP 1] Rebuild mask = ~isnan(X_norm)\"\n",
        "python - <<'PY'\n",
        "import numpy as np, os\n",
        "root = \"/content/drive/MyDrive/data-t2g/year/baseline/year_mcar30_cap10k_s0\"\n",
        "X = np.load(os.path.join(root, \"X_norm.npy\"))\n",
        "m = (~np.isnan(X)).astype('uint8')\n",
        "np.save(os.path.join(root, \"mask.npy\"), m)\n",
        "print(\"[SRC] rows_keep =\", int(m.any(axis=1).sum()), \"/\", m.shape[0],\n",
        "      \"| cols_keep =\", int(m.any(axis=0).sum()), \"/\", m.shape[1])\n",
        "PY\n",
        "\n",
        "echo \"[STEP 2] Prime artifacts baseline with 4 files\"\n",
        "mkdir -p \"$DST\"\n",
        "cp -f \"$SRC\"/{X_norm.npy,mask.npy,y.npy,split_idx.json} \"$DST\"/\n",
        "rm -rf \"$DST/variants\"\n",
        "echo \"[CHK] baseline primed:\"\n",
        "ls -lh \"$DST\"/X_norm.npy \"$DST\"/mask.npy \"$DST\"/y.npy \"$DST\"/split_idx.json\n",
        "\n",
        "echo \"[STEP 3] Run RANDOM(col drop) + GRAPE pipeline\"\n",
        "python pipelines/run_pipeline.py \\\n",
        "  --grape_root /content/GRAPE \\\n",
        "  --dataset year_mcar30 --seed 0 \\\n",
        "  --artifact_dir /content/grapt_artifacts \\\n",
        "  --modules random,grape --order 'random>grape' \\\n",
        "  --mask_op AND \\\n",
        "  --auto_prep \\\n",
        "  --grape_domain pack \\\n",
        "  --pack_root \"$SRC\" \\\n",
        "  --random.drop_cols 0.50 \\\n",
        "  --random.seed 0 \\\n",
        "  --grape.task y \\\n",
        "  --grape.y_cmd \"python /content/GRAPE/train_y.py --seed 0 \\\n",
        "                 --node_dim 8 --edge_dim 8 \\\n",
        "                 --known 0.01 --opt_scheduler none \\\n",
        "                 --dump_intermediate \\\n",
        "                 pack --root $SRC --data year_mcar30\" \\\n",
        "  > \"/content/logs/run_random_grape_seed0.log\" 2>&1 || true\n",
        "\n",
        "echo \"=== Done. 看 /content/logs/run_random_grape_seed0.log ===\"\n"
      ]
    },
    {
      "cell_type": "code",
      "execution_count": null,
      "metadata": {
        "id": "9VDq3n5nnBre"
      },
      "outputs": [],
      "source": [
        "%%bash\n",
        "set -euo pipefail\n",
        "src=\"/content/grapt_artifacts/baseline/year_mcar30\"\n",
        "dst=\"/content/grapt_artifacts/baseline/year_mcar30_random_grape_50\"\n",
        "\n",
        "[ -d \"$src\" ] || { echo \"找不到 $src\"; exit 1; }\n",
        "[ -e \"$dst\" ] && { echo \"目標已存在：$dst\"; exit 1; }\n",
        "\n",
        "mv \"$src\" \"$dst\"\n"
      ]
    },
    {
      "cell_type": "code",
      "execution_count": null,
      "metadata": {
        "colab": {
          "base_uri": "https://localhost:8080/"
        },
        "id": "trqZgxNdnGEt",
        "outputId": "c2a0ba24-e969-4ea9-964f-55b21d450b0f"
      },
      "outputs": [
        {
          "name": "stdout",
          "output_type": "stream",
          "text": [
            "6.3M\t/content/grapt_artifacts/baseline\n",
            "✅ 已備份 baseline 到：/content/drive/MyDrive/grapt_artifacts/results\n"
          ]
        }
      ],
      "source": [
        "%%bash\n",
        "\n",
        "# 路徑設定\n",
        "ART_SRC=\"/content/grapt_artifacts/baseline\"\n",
        "ART_DST=\"/content/drive/MyDrive/grapt_artifacts/results\"\n",
        "\n",
        "# 顯示大小（可選）\n",
        "[ -d \"$ART_SRC\" ] && du -sh \"$ART_SRC\" || echo \"來源資料夾不存在：$ART_SRC\"\n",
        "\n",
        "# 同步（保留時間/權限；顯示進度；不刪除目的端既有檔）\n",
        "if [ -d \"$ART_SRC\" ]; then\n",
        "  rsync -a \"$ART_SRC/\" \"$ART_DST/\"\n",
        "  echo \"✅ 已備份 baseline 到：$ART_DST\"\n",
        "else\n",
        "  echo \"⚠️ 找不到來源資料夾：$ART_SRC\"\n",
        "fi\n"
      ]
    },
    {
      "cell_type": "code",
      "execution_count": null,
      "metadata": {
        "colab": {
          "base_uri": "https://localhost:8080/"
        },
        "id": "O53r4VeL0Qo_",
        "outputId": "a7c4e286-6fe9-44b4-811c-1294a26cdead"
      },
      "outputs": [
        {
          "name": "stdout",
          "output_type": "stream",
          "text": [
            "1.1M\t/content/GRAPE/pack/test\n",
            "✅ 已備份 baseline 到：/content/drive/MyDrive/grapt_artifacts/results\n"
          ]
        }
      ],
      "source": [
        "%%bash\n",
        "\n",
        "# 路徑設定\n",
        "ART_SRC=\"/content/GRAPE/pack/test\"\n",
        "ART_DST=\"/content/drive/MyDrive/grapt_artifacts/results\"\n",
        "\n",
        "# 顯示大小（可選）\n",
        "[ -d \"$ART_SRC\" ] && du -sh \"$ART_SRC\" || echo \"來源資料夾不存在：$ART_SRC\"\n",
        "\n",
        "# 同步（保留時間/權限；顯示進度；不刪除目的端既有檔）\n",
        "if [ -d \"$ART_SRC\" ]; then\n",
        "  rsync -a \"$ART_SRC/\" \"$ART_DST/\"\n",
        "  echo \"✅ 已備份 baseline 到：$ART_DST\"\n",
        "else\n",
        "  echo \"⚠️ 找不到來源資料夾：$ART_SRC\"\n",
        "fi\n"
      ]
    }
  ],
  "metadata": {
    "accelerator": "GPU",
    "colab": {
      "collapsed_sections": [
        "Y8S19KTZchcJ",
        "hQsBXMEGe2YM",
        "pzPMKAeAWaSB",
        "SjImvXfzWmxm",
        "1ugztgiqK1Hf",
        "VbVpj5yMKa0L",
        "wNNuzYEoklom",
        "asSNbdAKjUp5",
        "-NA53jPWQL0b"
      ],
      "gpuType": "T4",
      "provenance": []
    },
    "kernelspec": {
      "display_name": "Python 3",
      "name": "python3"
    },
    "language_info": {
      "name": "python"
    }
  },
  "nbformat": 4,
  "nbformat_minor": 0
}
